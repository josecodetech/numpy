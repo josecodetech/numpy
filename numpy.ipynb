{
  "nbformat": 4,
  "nbformat_minor": 0,
  "metadata": {
    "colab": {
      "provenance": [],
      "collapsed_sections": []
    },
    "kernelspec": {
      "name": "python3",
      "display_name": "Python 3"
    },
    "language_info": {
      "name": "python"
    }
  },
  "cells": [
    {
      "cell_type": "markdown",
      "source": [
        "#Numpy, libreria para ciencia de datos"
      ],
      "metadata": {
        "id": "Qt2cbP-eV24w"
      }
    },
    {
      "cell_type": "code",
      "execution_count": 1,
      "metadata": {
        "id": "xyjKX8JMV00r"
      },
      "outputs": [],
      "source": [
        "import numpy as np \n",
        "#pip install numpy"
      ]
    },
    {
      "cell_type": "code",
      "source": [
        "def creaArray(fila,columna):\n",
        "  array = np.random.random((fila,columna))\n",
        "  return array"
      ],
      "metadata": {
        "id": "nbQ1vOrSOLb3"
      },
      "execution_count": null,
      "outputs": []
    },
    {
      "cell_type": "code",
      "source": [
        "array_1d=np.array([1,4,3])\n",
        "print(array_1d)\n"
      ],
      "metadata": {
        "colab": {
          "base_uri": "https://localhost:8080/"
        },
        "id": "2PY4MZwuZXDd",
        "outputId": "5aae11b2-f1ec-4ce8-b2cb-6b761b9e6709"
      },
      "execution_count": null,
      "outputs": [
        {
          "output_type": "stream",
          "name": "stdout",
          "text": [
            "[1 4 3]\n"
          ]
        }
      ]
    },
    {
      "cell_type": "code",
      "source": [
        "array_1d"
      ],
      "metadata": {
        "colab": {
          "base_uri": "https://localhost:8080/"
        },
        "id": "vm9PGpVeaELZ",
        "outputId": "ffc5524f-11f8-49ae-dd5b-93c09bb73ed3"
      },
      "execution_count": null,
      "outputs": [
        {
          "output_type": "execute_result",
          "data": {
            "text/plain": [
              "array([1, 4, 3])"
            ]
          },
          "metadata": {},
          "execution_count": 3
        }
      ]
    },
    {
      "cell_type": "code",
      "source": [
        "array_2d=np.array([(1,4,2),(5,2,3)])\n",
        "array_2d"
      ],
      "metadata": {
        "colab": {
          "base_uri": "https://localhost:8080/"
        },
        "id": "jS3dTgujaUNn",
        "outputId": "10d532e7-a905-4fdf-d084-3fd7f2e1c3ba"
      },
      "execution_count": null,
      "outputs": [
        {
          "output_type": "execute_result",
          "data": {
            "text/plain": [
              "array([[1, 4, 2],\n",
              "       [5, 2, 3]])"
            ]
          },
          "metadata": {},
          "execution_count": 4
        }
      ]
    },
    {
      "cell_type": "code",
      "source": [
        "array_3d=np.array([[(1.6,4.5,2),(1,5.8,9)],[(7,5,9.3),(8,1.4,3)],[(3,5,3),(7,2,9)]],dtype=float)\n",
        "array_3d"
      ],
      "metadata": {
        "colab": {
          "base_uri": "https://localhost:8080/"
        },
        "id": "6Q5JtZ7BafH4",
        "outputId": "048f686a-ffa3-4f5a-a588-38da1fe26b45"
      },
      "execution_count": null,
      "outputs": [
        {
          "output_type": "execute_result",
          "data": {
            "text/plain": [
              "array([[[1.6, 4.5, 2. ],\n",
              "        [1. , 5.8, 9. ]],\n",
              "\n",
              "       [[7. , 5. , 9.3],\n",
              "        [8. , 1.4, 3. ]],\n",
              "\n",
              "       [[3. , 5. , 3. ],\n",
              "        [7. , 2. , 9. ]]])"
            ]
          },
          "metadata": {},
          "execution_count": 5
        }
      ]
    },
    {
      "cell_type": "code",
      "source": [
        "print(array_3d)"
      ],
      "metadata": {
        "colab": {
          "base_uri": "https://localhost:8080/"
        },
        "id": "a7enQ-tfbHA5",
        "outputId": "207dcaa7-f14f-4acf-a839-8fd6a1b13ae7"
      },
      "execution_count": null,
      "outputs": [
        {
          "output_type": "stream",
          "name": "stdout",
          "text": [
            "[[[1.6 4.5 2. ]\n",
            "  [1.  5.8 9. ]]\n",
            "\n",
            " [[7.  5.  9.3]\n",
            "  [8.  1.4 3. ]]\n",
            "\n",
            " [[3.  5.  3. ]\n",
            "  [7.  2.  9. ]]]\n"
          ]
        }
      ]
    },
    {
      "cell_type": "markdown",
      "source": [
        "#Creando Arrays"
      ],
      "metadata": {
        "id": "jZtofP53nl-r"
      }
    },
    {
      "cell_type": "code",
      "source": [
        "#De ceros con 3 filas y 4 columnas\n",
        "array_ceros=np.zeros((3,4))\n",
        "array_ceros"
      ],
      "metadata": {
        "colab": {
          "base_uri": "https://localhost:8080/"
        },
        "id": "95BfDw62baL_",
        "outputId": "df00a8e7-9b35-4d0d-b9e4-1f9d2394823b"
      },
      "execution_count": null,
      "outputs": [
        {
          "output_type": "execute_result",
          "data": {
            "text/plain": [
              "array([[0., 0., 0., 0.],\n",
              "       [0., 0., 0., 0.],\n",
              "       [0., 0., 0., 0.]])"
            ]
          },
          "metadata": {},
          "execution_count": 7
        }
      ]
    },
    {
      "cell_type": "code",
      "source": [
        "print(np.zeros((4,5)))"
      ],
      "metadata": {
        "colab": {
          "base_uri": "https://localhost:8080/"
        },
        "id": "JzfhUUVTnx9D",
        "outputId": "93a00ccd-1608-4997-cfae-981da42c2319"
      },
      "execution_count": null,
      "outputs": [
        {
          "output_type": "stream",
          "name": "stdout",
          "text": [
            "[[0. 0. 0. 0. 0.]\n",
            " [0. 0. 0. 0. 0.]\n",
            " [0. 0. 0. 0. 0.]\n",
            " [0. 0. 0. 0. 0.]]\n"
          ]
        }
      ]
    },
    {
      "cell_type": "code",
      "source": [
        "#De unos con 2 dimensiones 4 filas 5 columnas\n",
        "np.ones((2,4,5))"
      ],
      "metadata": {
        "colab": {
          "base_uri": "https://localhost:8080/"
        },
        "id": "6UA1KdwUn6Nd",
        "outputId": "b58a7440-4274-4a48-943e-a9bdc03be86f"
      },
      "execution_count": null,
      "outputs": [
        {
          "output_type": "execute_result",
          "data": {
            "text/plain": [
              "array([[[1., 1., 1., 1., 1.],\n",
              "        [1., 1., 1., 1., 1.],\n",
              "        [1., 1., 1., 1., 1.],\n",
              "        [1., 1., 1., 1., 1.]],\n",
              "\n",
              "       [[1., 1., 1., 1., 1.],\n",
              "        [1., 1., 1., 1., 1.],\n",
              "        [1., 1., 1., 1., 1.],\n",
              "        [1., 1., 1., 1., 1.]]])"
            ]
          },
          "metadata": {},
          "execution_count": 9
        }
      ]
    },
    {
      "cell_type": "code",
      "source": [
        "#Intervalo y saltos\n",
        "np.arange(12,31,2)"
      ],
      "metadata": {
        "colab": {
          "base_uri": "https://localhost:8080/"
        },
        "id": "eP6z471woN2t",
        "outputId": "73676fd6-dfe6-4064-d603-17a19df7c911"
      },
      "execution_count": null,
      "outputs": [
        {
          "output_type": "execute_result",
          "data": {
            "text/plain": [
              "array([12, 14, 16, 18, 20, 22, 24, 26, 28, 30])"
            ]
          },
          "metadata": {},
          "execution_count": 10
        }
      ]
    },
    {
      "cell_type": "code",
      "source": [
        "#Intervalo y divisiones\n",
        "np.linspace(0,4,7)"
      ],
      "metadata": {
        "colab": {
          "base_uri": "https://localhost:8080/"
        },
        "id": "1XQLxWRQoaST",
        "outputId": "6eb60179-4a2a-49c8-daa3-92dbecac799b"
      },
      "execution_count": null,
      "outputs": [
        {
          "output_type": "execute_result",
          "data": {
            "text/plain": [
              "array([0.        , 0.66666667, 1.33333333, 2.        , 2.66666667,\n",
              "       3.33333333, 4.        ])"
            ]
          },
          "metadata": {},
          "execution_count": 11
        }
      ]
    },
    {
      "cell_type": "code",
      "source": [
        "#Valor dado\n",
        "np.full((3,3),7)"
      ],
      "metadata": {
        "colab": {
          "base_uri": "https://localhost:8080/"
        },
        "id": "Q4jKricCouQN",
        "outputId": "3318f1b2-74d7-4896-83a9-e917aab7cddf"
      },
      "execution_count": null,
      "outputs": [
        {
          "output_type": "execute_result",
          "data": {
            "text/plain": [
              "array([[7, 7, 7],\n",
              "       [7, 7, 7],\n",
              "       [7, 7, 7]])"
            ]
          },
          "metadata": {},
          "execution_count": 12
        }
      ]
    },
    {
      "cell_type": "code",
      "source": [
        "#Matriz identidad, diagonal de unos\n",
        "np.eye(3)"
      ],
      "metadata": {
        "colab": {
          "base_uri": "https://localhost:8080/"
        },
        "id": "TVXefEqXpCKX",
        "outputId": "ce07ca3a-4f96-4af0-e73c-8b09433ee154"
      },
      "execution_count": null,
      "outputs": [
        {
          "output_type": "execute_result",
          "data": {
            "text/plain": [
              "array([[1., 0., 0.],\n",
              "       [0., 1., 0.],\n",
              "       [0., 0., 1.]])"
            ]
          },
          "metadata": {},
          "execution_count": 13
        }
      ]
    },
    {
      "cell_type": "code",
      "source": [
        "#Valores aleatorios entre 0 y 1\n",
        "np.random.random((4,4))"
      ],
      "metadata": {
        "colab": {
          "base_uri": "https://localhost:8080/"
        },
        "id": "_jTAb_bFpOV6",
        "outputId": "dc57c16e-6932-4def-d8f1-0d5ba9a1f3a6"
      },
      "execution_count": null,
      "outputs": [
        {
          "output_type": "execute_result",
          "data": {
            "text/plain": [
              "array([[0.75285211, 0.11858646, 0.36126724, 0.45727286],\n",
              "       [0.25994762, 0.61445816, 0.76870491, 0.91567557],\n",
              "       [0.85643901, 0.57397506, 0.15088249, 0.40463163],\n",
              "       [0.59626211, 0.53078446, 0.59686667, 0.35896276]])"
            ]
          },
          "metadata": {},
          "execution_count": 14
        }
      ]
    },
    {
      "cell_type": "code",
      "source": [
        "#Vacio de 4 filas y 3 columnas\n",
        "np.empty((4,3))"
      ],
      "metadata": {
        "colab": {
          "base_uri": "https://localhost:8080/"
        },
        "id": "X9OqStRApboG",
        "outputId": "20bf5c51-81bb-418f-efbb-0fcb2911a71a"
      },
      "execution_count": null,
      "outputs": [
        {
          "output_type": "execute_result",
          "data": {
            "text/plain": [
              "array([[0., 0., 0.],\n",
              "       [0., 0., 0.],\n",
              "       [0., 0., 0.],\n",
              "       [0., 0., 0.]])"
            ]
          },
          "metadata": {},
          "execution_count": 15
        }
      ]
    },
    {
      "cell_type": "markdown",
      "source": [
        "#Grabar y cargar"
      ],
      "metadata": {
        "id": "DPgHRPoD7T3W"
      }
    },
    {
      "cell_type": "code",
      "source": [
        "#Grabar\n",
        "#np.save('mi_array',np.random.random((3,3)))\n",
        "np.save('mi_array_3d',array_3d)"
      ],
      "metadata": {
        "id": "hDuTx54cp32T"
      },
      "execution_count": null,
      "outputs": []
    },
    {
      "cell_type": "code",
      "source": [
        "#Cargar\n",
        "mi_array=np.load('mi_array_3d.npy')\n",
        "mi_array"
      ],
      "metadata": {
        "colab": {
          "base_uri": "https://localhost:8080/"
        },
        "id": "rBZ1Cr0t7huS",
        "outputId": "8b1143c1-8596-4142-9367-f40c0ca38016"
      },
      "execution_count": null,
      "outputs": [
        {
          "output_type": "execute_result",
          "data": {
            "text/plain": [
              "array([[[1.6, 4.5, 2. ],\n",
              "        [1. , 5.8, 9. ]],\n",
              "\n",
              "       [[7. , 5. , 9.3],\n",
              "        [8. , 1.4, 3. ]],\n",
              "\n",
              "       [[3. , 5. , 3. ],\n",
              "        [7. , 2. , 9. ]]])"
            ]
          },
          "metadata": {},
          "execution_count": 21
        }
      ]
    },
    {
      "cell_type": "code",
      "source": [
        "#Grabar a fichero de texto\n",
        "np.savetxt('mi_array.txt',array_2d,delimiter=\" \")"
      ],
      "metadata": {
        "id": "4jRAji7F7ucK"
      },
      "execution_count": null,
      "outputs": []
    },
    {
      "cell_type": "code",
      "source": [
        "#Cargar de fichero de texto\n",
        "array_2d=np.loadtxt('mi_array.txt')\n",
        "print(array_2d)"
      ],
      "metadata": {
        "colab": {
          "base_uri": "https://localhost:8080/"
        },
        "id": "1uCWBQGk9-qZ",
        "outputId": "39530c47-043a-4943-acd1-39f0977569c6"
      },
      "execution_count": null,
      "outputs": [
        {
          "output_type": "stream",
          "name": "stdout",
          "text": [
            "[[1. 4. 2.]\n",
            " [5. 2. 3.]]\n"
          ]
        }
      ]
    },
    {
      "cell_type": "markdown",
      "source": [
        "#Tipos de datos"
      ],
      "metadata": {
        "id": "noI4Aql9BsZj"
      }
    },
    {
      "cell_type": "code",
      "source": [
        "#Enteros\n",
        "np.int64"
      ],
      "metadata": {
        "colab": {
          "base_uri": "https://localhost:8080/"
        },
        "id": "vobaLjt_-LlX",
        "outputId": "03df032c-4447-4149-ca05-796c3e5b592e"
      },
      "execution_count": null,
      "outputs": [
        {
          "output_type": "execute_result",
          "data": {
            "text/plain": [
              "numpy.int64"
            ]
          },
          "metadata": {},
          "execution_count": 28
        }
      ]
    },
    {
      "cell_type": "code",
      "source": [
        "#Decimal, numero doble precision o de punto flotante\n",
        "np.float64"
      ],
      "metadata": {
        "colab": {
          "base_uri": "https://localhost:8080/"
        },
        "id": "PZgnKH7JB2n3",
        "outputId": "2ccc6183-83c5-41ce-968d-0a3bef41264f"
      },
      "execution_count": null,
      "outputs": [
        {
          "output_type": "execute_result",
          "data": {
            "text/plain": [
              "numpy.float64"
            ]
          },
          "metadata": {},
          "execution_count": 29
        }
      ]
    },
    {
      "cell_type": "code",
      "source": [
        "#Complejos\n",
        "np.complex_"
      ],
      "metadata": {
        "colab": {
          "base_uri": "https://localhost:8080/"
        },
        "id": "eJGo8jexCBQ1",
        "outputId": "f048e020-85fc-426c-c1a2-12ce9936f0a9"
      },
      "execution_count": null,
      "outputs": [
        {
          "output_type": "execute_result",
          "data": {
            "text/plain": [
              "numpy.complex128"
            ]
          },
          "metadata": {},
          "execution_count": 30
        }
      ]
    },
    {
      "cell_type": "code",
      "source": [
        "#Boolean\n",
        "np.bool_"
      ],
      "metadata": {
        "colab": {
          "base_uri": "https://localhost:8080/"
        },
        "id": "moh_0PF4CMYx",
        "outputId": "76109285-2988-43f2-ed30-eb47dcc002b8"
      },
      "execution_count": null,
      "outputs": [
        {
          "output_type": "execute_result",
          "data": {
            "text/plain": [
              "numpy.bool_"
            ]
          },
          "metadata": {},
          "execution_count": 32
        }
      ]
    },
    {
      "cell_type": "code",
      "source": [
        "#Objetos\n",
        "np.object_"
      ],
      "metadata": {
        "colab": {
          "base_uri": "https://localhost:8080/"
        },
        "id": "JNjUrVDCCQoQ",
        "outputId": "b69f7789-9e1b-4661-ac5b-53554c990496"
      },
      "execution_count": null,
      "outputs": [
        {
          "output_type": "execute_result",
          "data": {
            "text/plain": [
              "numpy.object_"
            ]
          },
          "metadata": {},
          "execution_count": 33
        }
      ]
    },
    {
      "cell_type": "code",
      "source": [
        "#Cadenas\n",
        "np.string_"
      ],
      "metadata": {
        "colab": {
          "base_uri": "https://localhost:8080/"
        },
        "id": "2CoxmnEHCg_2",
        "outputId": "43d29a65-1d0a-442b-e261-e87368e24e4f"
      },
      "execution_count": null,
      "outputs": [
        {
          "output_type": "execute_result",
          "data": {
            "text/plain": [
              "numpy.bytes_"
            ]
          },
          "metadata": {},
          "execution_count": 34
        }
      ]
    },
    {
      "cell_type": "code",
      "source": [
        "np.unicode_"
      ],
      "metadata": {
        "colab": {
          "base_uri": "https://localhost:8080/"
        },
        "id": "u9x8qya2Cka4",
        "outputId": "2f78bd83-50fb-424f-f13a-bf2e498fa995"
      },
      "execution_count": null,
      "outputs": [
        {
          "output_type": "execute_result",
          "data": {
            "text/plain": [
              "numpy.str_"
            ]
          },
          "metadata": {},
          "execution_count": 35
        }
      ]
    },
    {
      "cell_type": "markdown",
      "source": [
        "#Propiedades y caracteristicas"
      ],
      "metadata": {
        "id": "fC2uMJHEFr7C"
      }
    },
    {
      "cell_type": "code",
      "source": [
        "array_3d"
      ],
      "metadata": {
        "colab": {
          "base_uri": "https://localhost:8080/"
        },
        "id": "G090abzMCnzT",
        "outputId": "e4fa6c10-dd92-461f-c9d4-97178aad15c2"
      },
      "execution_count": null,
      "outputs": [
        {
          "output_type": "execute_result",
          "data": {
            "text/plain": [
              "array([[[1.6, 4.5, 2. ],\n",
              "        [1. , 5.8, 9. ]],\n",
              "\n",
              "       [[7. , 5. , 9.3],\n",
              "        [8. , 1.4, 3. ]],\n",
              "\n",
              "       [[3. , 5. , 3. ],\n",
              "        [7. , 2. , 9. ]]])"
            ]
          },
          "metadata": {},
          "execution_count": 36
        }
      ]
    },
    {
      "cell_type": "code",
      "source": [
        "#Dimension o forma\n",
        "array_3d.shape"
      ],
      "metadata": {
        "colab": {
          "base_uri": "https://localhost:8080/"
        },
        "id": "yzQb7f4uFyM6",
        "outputId": "89f0114c-c355-4137-bb6d-3629a2a7b592"
      },
      "execution_count": null,
      "outputs": [
        {
          "output_type": "execute_result",
          "data": {
            "text/plain": [
              "(3, 2, 3)"
            ]
          },
          "metadata": {},
          "execution_count": 37
        }
      ]
    },
    {
      "cell_type": "code",
      "source": [
        "#Longitud\n",
        "len(array_3d)"
      ],
      "metadata": {
        "colab": {
          "base_uri": "https://localhost:8080/"
        },
        "id": "6TM3UYimGBce",
        "outputId": "677de1fb-828d-4aa9-fc61-f54f8d92a054"
      },
      "execution_count": null,
      "outputs": [
        {
          "output_type": "execute_result",
          "data": {
            "text/plain": [
              "3"
            ]
          },
          "metadata": {},
          "execution_count": 38
        }
      ]
    },
    {
      "cell_type": "code",
      "source": [
        "#Numero de dimensiones\n",
        "array_3d.ndim"
      ],
      "metadata": {
        "colab": {
          "base_uri": "https://localhost:8080/"
        },
        "id": "afEJ3OJVGOfC",
        "outputId": "ffc3d0d4-e986-46b0-d8e1-69814abb5800"
      },
      "execution_count": null,
      "outputs": [
        {
          "output_type": "execute_result",
          "data": {
            "text/plain": [
              "3"
            ]
          },
          "metadata": {},
          "execution_count": 39
        }
      ]
    },
    {
      "cell_type": "code",
      "source": [
        "#Tamaño o numero de elementos\n",
        "array_3d.size"
      ],
      "metadata": {
        "colab": {
          "base_uri": "https://localhost:8080/"
        },
        "id": "1RJQqkp_GVCn",
        "outputId": "9ce18853-a02a-4db6-e49e-c6ba2fa6223a"
      },
      "execution_count": null,
      "outputs": [
        {
          "output_type": "execute_result",
          "data": {
            "text/plain": [
              "18"
            ]
          },
          "metadata": {},
          "execution_count": 40
        }
      ]
    },
    {
      "cell_type": "code",
      "source": [
        "#Tipos de datos\n",
        "array_3d.dtype"
      ],
      "metadata": {
        "colab": {
          "base_uri": "https://localhost:8080/"
        },
        "id": "M7Q1bJwFGjZU",
        "outputId": "6a6eb879-230d-4b5b-ebc5-a5bc72a362ea"
      },
      "execution_count": null,
      "outputs": [
        {
          "output_type": "execute_result",
          "data": {
            "text/plain": [
              "dtype('float64')"
            ]
          },
          "metadata": {},
          "execution_count": 41
        }
      ]
    },
    {
      "cell_type": "code",
      "source": [
        "array_3d.dtype.name"
      ],
      "metadata": {
        "colab": {
          "base_uri": "https://localhost:8080/",
          "height": 36
        },
        "id": "1a67kDn2Gwrd",
        "outputId": "22b4113a-b725-474c-8fd7-ce48bbb937b9"
      },
      "execution_count": null,
      "outputs": [
        {
          "output_type": "execute_result",
          "data": {
            "text/plain": [
              "'float64'"
            ],
            "application/vnd.google.colaboratory.intrinsic+json": {
              "type": "string"
            }
          },
          "metadata": {},
          "execution_count": 42
        }
      ]
    },
    {
      "cell_type": "code",
      "source": [
        "#Convertir de un tipo a otro\n",
        "array_3d.astype(int)"
      ],
      "metadata": {
        "colab": {
          "base_uri": "https://localhost:8080/"
        },
        "id": "B57hxp6gG53L",
        "outputId": "81df89e3-637f-47f0-a275-01b35b28c0a3"
      },
      "execution_count": null,
      "outputs": [
        {
          "output_type": "execute_result",
          "data": {
            "text/plain": [
              "array([[[1, 4, 2],\n",
              "        [1, 5, 9]],\n",
              "\n",
              "       [[7, 5, 9],\n",
              "        [8, 1, 3]],\n",
              "\n",
              "       [[3, 5, 3],\n",
              "        [7, 2, 9]]])"
            ]
          },
          "metadata": {},
          "execution_count": 43
        }
      ]
    },
    {
      "cell_type": "markdown",
      "source": [
        "#Ayuda"
      ],
      "metadata": {
        "id": "-5ND-KlqHNYP"
      }
    },
    {
      "cell_type": "code",
      "source": [
        "np.info(np.ndarray.dtype)"
      ],
      "metadata": {
        "colab": {
          "base_uri": "https://localhost:8080/"
        },
        "id": "-M4HQ7F7HCeC",
        "outputId": "ec4b4c93-aec1-4ab7-fe83-8e6f822a8df9"
      },
      "execution_count": null,
      "outputs": [
        {
          "output_type": "stream",
          "name": "stdout",
          "text": [
            "Data-type of the array's elements.\n",
            "\n",
            "Parameters\n",
            "----------\n",
            "None\n",
            "\n",
            "Returns\n",
            "-------\n",
            "d : numpy dtype object\n",
            "\n",
            "See Also\n",
            "--------\n",
            "numpy.dtype\n",
            "\n",
            "Examples\n",
            "--------\n",
            ">>> x\n",
            "array([[0, 1],\n",
            "       [2, 3]])\n",
            ">>> x.dtype\n",
            "dtype('int32')\n",
            ">>> type(x.dtype)\n",
            "<type 'numpy.dtype'>\n"
          ]
        }
      ]
    },
    {
      "cell_type": "markdown",
      "source": [
        "#Operadores Aritmeticos"
      ],
      "metadata": {
        "id": "UpeRtP2WIOA9"
      }
    },
    {
      "cell_type": "code",
      "source": [
        "#Arrays de ejemplos\n",
        "array1=np.random.random((4,4))\n",
        "array1"
      ],
      "metadata": {
        "id": "xtwpcngrHUOO",
        "colab": {
          "base_uri": "https://localhost:8080/"
        },
        "outputId": "e9c99a72-3386-48c6-b733-b8475be09a89"
      },
      "execution_count": null,
      "outputs": [
        {
          "output_type": "execute_result",
          "data": {
            "text/plain": [
              "array([[0.76834816, 0.2869861 , 0.07228661, 0.52983716],\n",
              "       [0.79565618, 0.31725566, 0.17553004, 0.15171423],\n",
              "       [0.49734136, 0.33177043, 0.79473864, 0.88514113],\n",
              "       [0.26725948, 0.25622415, 0.13606846, 0.79389823]])"
            ]
          },
          "metadata": {},
          "execution_count": 3
        }
      ]
    },
    {
      "cell_type": "code",
      "source": [
        "array2=np.random.random((4,4))\n",
        "array2"
      ],
      "metadata": {
        "colab": {
          "base_uri": "https://localhost:8080/"
        },
        "id": "Co1p3RSIIcr7",
        "outputId": "572788d8-0361-41bb-afd9-9fd08cd7b72d"
      },
      "execution_count": null,
      "outputs": [
        {
          "output_type": "execute_result",
          "data": {
            "text/plain": [
              "array([[0.3168319 , 0.23177337, 0.94337712, 0.35230628],\n",
              "       [0.40665201, 0.13565838, 0.64535998, 0.08795513],\n",
              "       [0.14624175, 0.55623124, 0.42355026, 0.59263804],\n",
              "       [0.50156974, 0.94113118, 0.74476194, 0.35098769]])"
            ]
          },
          "metadata": {},
          "execution_count": 4
        }
      ]
    },
    {
      "cell_type": "code",
      "source": [
        "#Suma\n",
        "array3=array1+array2\n",
        "array3"
      ],
      "metadata": {
        "colab": {
          "base_uri": "https://localhost:8080/"
        },
        "id": "szwMpnOqIsve",
        "outputId": "f518d04b-4b76-42f1-9490-4b4bbb814852"
      },
      "execution_count": null,
      "outputs": [
        {
          "output_type": "execute_result",
          "data": {
            "text/plain": [
              "array([[1.08518006, 0.51875947, 1.01566373, 0.88214344],\n",
              "       [1.20230819, 0.45291404, 0.82089002, 0.23966936],\n",
              "       [0.64358311, 0.88800167, 1.2182889 , 1.47777917],\n",
              "       [0.76882922, 1.19735534, 0.8808304 , 1.14488592]])"
            ]
          },
          "metadata": {},
          "execution_count": 5
        }
      ]
    },
    {
      "cell_type": "code",
      "source": [
        "#Otra opcion de suma\n",
        "array3=np.add(array1,array2)\n",
        "array3"
      ],
      "metadata": {
        "colab": {
          "base_uri": "https://localhost:8080/"
        },
        "id": "S2eWEiYhI0lU",
        "outputId": "10c66128-6772-4f63-c970-50f9cbf46442"
      },
      "execution_count": null,
      "outputs": [
        {
          "output_type": "execute_result",
          "data": {
            "text/plain": [
              "array([[1.08518006, 0.51875947, 1.01566373, 0.88214344],\n",
              "       [1.20230819, 0.45291404, 0.82089002, 0.23966936],\n",
              "       [0.64358311, 0.88800167, 1.2182889 , 1.47777917],\n",
              "       [0.76882922, 1.19735534, 0.8808304 , 1.14488592]])"
            ]
          },
          "metadata": {},
          "execution_count": 7
        }
      ]
    },
    {
      "cell_type": "code",
      "source": [
        "#Resta\n",
        "array3=array1-array2\n",
        "array3"
      ],
      "metadata": {
        "colab": {
          "base_uri": "https://localhost:8080/"
        },
        "id": "IszHWH6IJAW_",
        "outputId": "01b60f48-170b-4f5f-e91e-b65457a00eec"
      },
      "execution_count": null,
      "outputs": [
        {
          "output_type": "execute_result",
          "data": {
            "text/plain": [
              "array([[ 0.45151626,  0.05521273, -0.87109051,  0.17753088],\n",
              "       [ 0.38900417,  0.18159728, -0.46982993,  0.0637591 ],\n",
              "       [ 0.35109961, -0.22446081,  0.37118838,  0.29250309],\n",
              "       [-0.23431026, -0.68490703, -0.60869347,  0.44291054]])"
            ]
          },
          "metadata": {},
          "execution_count": 8
        }
      ]
    },
    {
      "cell_type": "code",
      "source": [
        "#Multiplica\n",
        "array3=np.multiply(array1,array2)\n",
        "array3"
      ],
      "metadata": {
        "colab": {
          "base_uri": "https://localhost:8080/"
        },
        "id": "UFt7aTepJLcT",
        "outputId": "2bbaa165-8c65-43c1-add5-37dd8ea14c97"
      },
      "execution_count": null,
      "outputs": [
        {
          "output_type": "execute_result",
          "data": {
            "text/plain": [
              "array([[0.24343721, 0.06651574, 0.06819353, 0.18666496],\n",
              "       [0.32355518, 0.04303839, 0.11328007, 0.01334405],\n",
              "       [0.07273207, 0.18454108, 0.33661176, 0.5245683 ],\n",
              "       [0.13404927, 0.24114054, 0.10133861, 0.2786485 ]])"
            ]
          },
          "metadata": {},
          "execution_count": 9
        }
      ]
    },
    {
      "cell_type": "code",
      "source": [
        "#Divide\n",
        "array3=array1/array2\n",
        "array3"
      ],
      "metadata": {
        "colab": {
          "base_uri": "https://localhost:8080/"
        },
        "id": "Lr0U6RYgJayg",
        "outputId": "ec3aef3d-ed44-4124-d665-7873309ec75c"
      },
      "execution_count": null,
      "outputs": [
        {
          "output_type": "execute_result",
          "data": {
            "text/plain": [
              "array([[2.4250972 , 1.23821861, 0.07662536, 1.50391063],\n",
              "       [1.95660213, 2.33863665, 0.27198781, 1.72490481],\n",
              "       [3.40081657, 0.59646133, 1.87637386, 1.49356111],\n",
              "       [0.53284611, 0.27225126, 0.18270061, 2.26189767]])"
            ]
          },
          "metadata": {},
          "execution_count": 10
        }
      ]
    },
    {
      "cell_type": "code",
      "source": [
        "array3=np.divide(array1,array2)\n",
        "array3"
      ],
      "metadata": {
        "colab": {
          "base_uri": "https://localhost:8080/"
        },
        "id": "-8MfTmdiJjlV",
        "outputId": "d9f23c37-7bc6-474f-eb9b-7b8919ef4a2e"
      },
      "execution_count": null,
      "outputs": [
        {
          "output_type": "execute_result",
          "data": {
            "text/plain": [
              "array([[2.4250972 , 1.23821861, 0.07662536, 1.50391063],\n",
              "       [1.95660213, 2.33863665, 0.27198781, 1.72490481],\n",
              "       [3.40081657, 0.59646133, 1.87637386, 1.49356111],\n",
              "       [0.53284611, 0.27225126, 0.18270061, 2.26189767]])"
            ]
          },
          "metadata": {},
          "execution_count": 11
        }
      ]
    },
    {
      "cell_type": "code",
      "source": [
        "np.exp(array1)"
      ],
      "metadata": {
        "colab": {
          "base_uri": "https://localhost:8080/"
        },
        "id": "gRcerhkeJpoF",
        "outputId": "b5edbfd4-c511-4462-e645-498c4bf38d03"
      },
      "execution_count": null,
      "outputs": [
        {
          "output_type": "execute_result",
          "data": {
            "text/plain": [
              "array([[2.15620161, 1.33240569, 1.07496339, 1.69865568],\n",
              "       [2.21589455, 1.37335364, 1.1918778 , 1.1638276 ],\n",
              "       [1.64434374, 1.39343292, 2.2138623 , 2.42332636],\n",
              "       [1.30637939, 1.29204231, 1.14576033, 2.21200254]])"
            ]
          },
          "metadata": {},
          "execution_count": 12
        }
      ]
    },
    {
      "cell_type": "code",
      "source": [
        "np.sin(array1)"
      ],
      "metadata": {
        "colab": {
          "base_uri": "https://localhost:8080/"
        },
        "id": "htY_ozG8JwiP",
        "outputId": "5e1436f7-aa73-408a-e95c-a1332b9e6139"
      },
      "execution_count": null,
      "outputs": [
        {
          "output_type": "execute_result",
          "data": {
            "text/plain": [
              "array([[0.69494841, 0.28306288, 0.07222367, 0.50539284],\n",
              "       [0.71432297, 0.31196036, 0.17463006, 0.15113289],\n",
              "       [0.47709067, 0.32571742, 0.71368055, 0.77400435],\n",
              "       [0.26408921, 0.25342979, 0.13564897, 0.71309162]])"
            ]
          },
          "metadata": {},
          "execution_count": 13
        }
      ]
    },
    {
      "cell_type": "code",
      "source": [
        "np.cos(array2)"
      ],
      "metadata": {
        "colab": {
          "base_uri": "https://localhost:8080/"
        },
        "id": "ImdB2MjIJzmx",
        "outputId": "f9d00e0d-2cb4-4d3a-861e-14327c72d5b2"
      },
      "execution_count": null,
      "outputs": [
        {
          "output_type": "execute_result",
          "data": {
            "text/plain": [
              "array([[0.95022723, 0.97326058, 0.58705745, 0.9385794 ],\n",
              "       [0.91845022, 0.9908125 , 0.7988833 , 0.99613444],\n",
              "       [0.98932572, 0.849251  , 0.91163553, 0.82947009],\n",
              "       [0.87682891, 0.58887415, 0.73524928, 0.93903358]])"
            ]
          },
          "metadata": {},
          "execution_count": 14
        }
      ]
    },
    {
      "cell_type": "code",
      "source": [
        "np.log(array2)"
      ],
      "metadata": {
        "colab": {
          "base_uri": "https://localhost:8080/"
        },
        "id": "Z7sKY9H9J2DK",
        "outputId": "27f9fbdb-b185-4bc8-cab9-db2a017fb4ba"
      },
      "execution_count": null,
      "outputs": [
        {
          "output_type": "execute_result",
          "data": {
            "text/plain": [
              "array([[-1.14938392, -1.46199523, -0.05828916, -1.04325436],\n",
              "       [-0.89979748, -1.99761546, -0.43794701, -2.43092845],\n",
              "       [-1.92249421, -0.58657117, -0.85908309, -0.52317146],\n",
              "       [-0.69001262, -0.06067274, -0.29469066, -1.04700414]])"
            ]
          },
          "metadata": {},
          "execution_count": 15
        }
      ]
    },
    {
      "cell_type": "code",
      "source": [
        "#Producto de matrices\n",
        "array1.dot(array2)"
      ],
      "metadata": {
        "colab": {
          "base_uri": "https://localhost:8080/"
        },
        "id": "8s7hN2auJ_SP",
        "outputId": "deb16eb2-49ee-443e-867b-2b3250e6bab5"
      },
      "execution_count": null,
      "outputs": [
        {
          "output_type": "execute_result",
          "data": {
            "text/plain": [
              "array([[0.63646229, 0.75586906, 1.33527098, 0.5247419 ],\n",
              "       [0.482867  , 0.46786859, 1.14268473, 0.46549454],\n",
              "       [0.85267269, 1.4353703 , 1.679123  , 0.98606338],\n",
              "       [0.60696461, 0.9195505 , 1.06638031, 0.47598127]])"
            ]
          },
          "metadata": {},
          "execution_count": 16
        }
      ]
    },
    {
      "cell_type": "markdown",
      "source": [
        "#Comparacion"
      ],
      "metadata": {
        "id": "1abJux-1KICz"
      }
    },
    {
      "cell_type": "markdown",
      "source": [
        "== != < > <= >= and or"
      ],
      "metadata": {
        "id": "9QDr2FVsKgas"
      }
    },
    {
      "cell_type": "code",
      "source": [
        "array1==array2"
      ],
      "metadata": {
        "colab": {
          "base_uri": "https://localhost:8080/"
        },
        "id": "yU4Ni1BZKEDq",
        "outputId": "5c4262ce-8144-4d65-b7b3-d1a223e500ce"
      },
      "execution_count": null,
      "outputs": [
        {
          "output_type": "execute_result",
          "data": {
            "text/plain": [
              "array([[False, False, False, False],\n",
              "       [False, False, False, False],\n",
              "       [False, False, False, False],\n",
              "       [False, False, False, False]])"
            ]
          },
          "metadata": {},
          "execution_count": 17
        }
      ]
    },
    {
      "cell_type": "code",
      "source": [
        "array1<0.5"
      ],
      "metadata": {
        "colab": {
          "base_uri": "https://localhost:8080/"
        },
        "id": "LycOCTfNKNtp",
        "outputId": "c46f8135-4fe0-44bf-de0c-e398bfad09c5"
      },
      "execution_count": null,
      "outputs": [
        {
          "output_type": "execute_result",
          "data": {
            "text/plain": [
              "array([[False,  True,  True, False],\n",
              "       [False,  True,  True,  True],\n",
              "       [ True,  True, False, False],\n",
              "       [ True,  True,  True, False]])"
            ]
          },
          "metadata": {},
          "execution_count": 18
        }
      ]
    },
    {
      "cell_type": "code",
      "source": [
        "array1"
      ],
      "metadata": {
        "colab": {
          "base_uri": "https://localhost:8080/"
        },
        "id": "Q3AgLedfKTv0",
        "outputId": "ab9b381b-88d7-4d33-9078-b3a2b990c38d"
      },
      "execution_count": null,
      "outputs": [
        {
          "output_type": "execute_result",
          "data": {
            "text/plain": [
              "array([[0.76834816, 0.2869861 , 0.07228661, 0.52983716],\n",
              "       [0.79565618, 0.31725566, 0.17553004, 0.15171423],\n",
              "       [0.49734136, 0.33177043, 0.79473864, 0.88514113],\n",
              "       [0.26725948, 0.25622415, 0.13606846, 0.79389823]])"
            ]
          },
          "metadata": {},
          "execution_count": 19
        }
      ]
    },
    {
      "cell_type": "code",
      "source": [
        "array3<=0.4"
      ],
      "metadata": {
        "colab": {
          "base_uri": "https://localhost:8080/"
        },
        "id": "OPeg2ID2KXNC",
        "outputId": "45402c91-6969-49f9-e7eb-61ae02bfb142"
      },
      "execution_count": null,
      "outputs": [
        {
          "output_type": "execute_result",
          "data": {
            "text/plain": [
              "array([[False, False,  True, False],\n",
              "       [False, False,  True, False],\n",
              "       [False, False, False, False],\n",
              "       [False,  True,  True, False]])"
            ]
          },
          "metadata": {},
          "execution_count": 20
        }
      ]
    },
    {
      "cell_type": "code",
      "source": [
        "array3"
      ],
      "metadata": {
        "colab": {
          "base_uri": "https://localhost:8080/"
        },
        "id": "GvYY5607KswA",
        "outputId": "269dc579-42de-4b0b-9e50-62e3e60c2843"
      },
      "execution_count": null,
      "outputs": [
        {
          "output_type": "execute_result",
          "data": {
            "text/plain": [
              "array([[2.4250972 , 1.23821861, 0.07662536, 1.50391063],\n",
              "       [1.95660213, 2.33863665, 0.27198781, 1.72490481],\n",
              "       [3.40081657, 0.59646133, 1.87637386, 1.49356111],\n",
              "       [0.53284611, 0.27225126, 0.18270061, 2.26189767]])"
            ]
          },
          "metadata": {},
          "execution_count": 21
        }
      ]
    },
    {
      "cell_type": "markdown",
      "source": [
        "#Estadisticos basicos y otras funciones"
      ],
      "metadata": {
        "id": "JeUbmqqLOdNX"
      }
    },
    {
      "cell_type": "code",
      "source": [
        "array1=creaArray(5,5)\n",
        "array1"
      ],
      "metadata": {
        "id": "sOVecvgdKv4J",
        "colab": {
          "base_uri": "https://localhost:8080/"
        },
        "outputId": "de11e6ae-8fb8-4de7-b101-15ba3c4e2d53"
      },
      "execution_count": null,
      "outputs": [
        {
          "output_type": "execute_result",
          "data": {
            "text/plain": [
              "array([[0.38793276, 0.60208478, 0.41808967, 0.24413013, 0.38481288],\n",
              "       [0.75877891, 0.73657283, 0.91950851, 0.19491846, 0.88286669],\n",
              "       [0.29510897, 0.57773786, 0.41387761, 0.28965302, 0.43109872],\n",
              "       [0.41478154, 0.74847598, 0.61011024, 0.49912118, 0.69955266],\n",
              "       [0.47464506, 0.06518268, 0.85021389, 0.94827922, 0.93655626]])"
            ]
          },
          "metadata": {},
          "execution_count": 24
        }
      ]
    },
    {
      "cell_type": "code",
      "source": [
        "sumaTotal=array1.sum()\n",
        "print(sumaTotal)"
      ],
      "metadata": {
        "colab": {
          "base_uri": "https://localhost:8080/"
        },
        "id": "00fJAWTFOnRV",
        "outputId": "25c8060a-bb38-4f32-9882-23c87b21fe77"
      },
      "execution_count": null,
      "outputs": [
        {
          "output_type": "stream",
          "name": "stdout",
          "text": [
            "13.784090504202645\n"
          ]
        }
      ]
    },
    {
      "cell_type": "code",
      "source": [
        "array1.min()"
      ],
      "metadata": {
        "colab": {
          "base_uri": "https://localhost:8080/"
        },
        "id": "i-tQeDc0OtuP",
        "outputId": "91d01ec5-f1dd-4ed7-d866-3e5a401a0a39"
      },
      "execution_count": null,
      "outputs": [
        {
          "output_type": "execute_result",
          "data": {
            "text/plain": [
              "0.06518268440445318"
            ]
          },
          "metadata": {},
          "execution_count": 26
        }
      ]
    },
    {
      "cell_type": "code",
      "source": [
        "array1.max()"
      ],
      "metadata": {
        "colab": {
          "base_uri": "https://localhost:8080/"
        },
        "id": "ldEA4HckOx0L",
        "outputId": "dd4be892-695e-4530-ac80-1a82d9221a3e"
      },
      "execution_count": null,
      "outputs": [
        {
          "output_type": "execute_result",
          "data": {
            "text/plain": [
              "0.9482792211402644"
            ]
          },
          "metadata": {},
          "execution_count": 27
        }
      ]
    },
    {
      "cell_type": "code",
      "source": [
        "#Maximo por filas\n",
        "array1.max(axis=0)"
      ],
      "metadata": {
        "colab": {
          "base_uri": "https://localhost:8080/"
        },
        "id": "wp9SGXehO2S2",
        "outputId": "97915073-0293-4a83-8509-7965a39be5e1"
      },
      "execution_count": null,
      "outputs": [
        {
          "output_type": "execute_result",
          "data": {
            "text/plain": [
              "array([0.75877891, 0.74847598, 0.91950851, 0.94827922, 0.93655626])"
            ]
          },
          "metadata": {},
          "execution_count": 29
        }
      ]
    },
    {
      "cell_type": "code",
      "source": [
        "#Maximo por columnas\n",
        "array1.max(axis=1)"
      ],
      "metadata": {
        "colab": {
          "base_uri": "https://localhost:8080/"
        },
        "id": "E5UQz3ShPP1P",
        "outputId": "23be155c-ce7c-42a4-f6b4-385b1ea41afa"
      },
      "execution_count": null,
      "outputs": [
        {
          "output_type": "execute_result",
          "data": {
            "text/plain": [
              "array([0.60208478, 0.91950851, 0.57773786, 0.74847598, 0.94827922])"
            ]
          },
          "metadata": {},
          "execution_count": 30
        }
      ]
    },
    {
      "cell_type": "code",
      "source": [
        "#Suma acumulada\n",
        "array1.cumsum(axis=1)"
      ],
      "metadata": {
        "colab": {
          "base_uri": "https://localhost:8080/"
        },
        "id": "J3eUbXiPPbIL",
        "outputId": "f5b190c2-5b2c-4514-89d1-0659eb49424c"
      },
      "execution_count": null,
      "outputs": [
        {
          "output_type": "execute_result",
          "data": {
            "text/plain": [
              "array([[0.38793276, 0.99001753, 1.4081072 , 1.65223733, 2.03705021],\n",
              "       [0.75877891, 1.49535175, 2.41486026, 2.60977871, 3.4926454 ],\n",
              "       [0.29510897, 0.87284683, 1.28672444, 1.57637746, 2.00747618],\n",
              "       [0.41478154, 1.16325751, 1.77336776, 2.27248894, 2.9720416 ],\n",
              "       [0.47464506, 0.53982774, 1.39004163, 2.33832085, 3.27487712]])"
            ]
          },
          "metadata": {},
          "execution_count": 31
        }
      ]
    },
    {
      "cell_type": "code",
      "source": [
        "array1"
      ],
      "metadata": {
        "colab": {
          "base_uri": "https://localhost:8080/"
        },
        "id": "hsAVunO-PreU",
        "outputId": "c3ed7834-a840-435d-c774-5d930d49db98"
      },
      "execution_count": null,
      "outputs": [
        {
          "output_type": "execute_result",
          "data": {
            "text/plain": [
              "array([[0.38793276, 0.60208478, 0.41808967, 0.24413013, 0.38481288],\n",
              "       [0.75877891, 0.73657283, 0.91950851, 0.19491846, 0.88286669],\n",
              "       [0.29510897, 0.57773786, 0.41387761, 0.28965302, 0.43109872],\n",
              "       [0.41478154, 0.74847598, 0.61011024, 0.49912118, 0.69955266],\n",
              "       [0.47464506, 0.06518268, 0.85021389, 0.94827922, 0.93655626]])"
            ]
          },
          "metadata": {},
          "execution_count": 32
        }
      ]
    },
    {
      "cell_type": "code",
      "source": [
        "#Media\n",
        "np.mean(array1)"
      ],
      "metadata": {
        "colab": {
          "base_uri": "https://localhost:8080/"
        },
        "id": "h8GEIx21PtD0",
        "outputId": "5e6c1e26-a355-404d-f794-b639f349580f"
      },
      "execution_count": null,
      "outputs": [
        {
          "output_type": "execute_result",
          "data": {
            "text/plain": [
              "0.5513636201681058"
            ]
          },
          "metadata": {},
          "execution_count": 33
        }
      ]
    },
    {
      "cell_type": "code",
      "source": [
        "#Mediana\n",
        "np.median(array1)"
      ],
      "metadata": {
        "colab": {
          "base_uri": "https://localhost:8080/"
        },
        "id": "ffJAyKT8P6pL",
        "outputId": "1d8a48d3-8c4e-4efc-8a48-50d5f2a44727"
      },
      "execution_count": null,
      "outputs": [
        {
          "output_type": "execute_result",
          "data": {
            "text/plain": [
              "0.49912118185757104"
            ]
          },
          "metadata": {},
          "execution_count": 34
        }
      ]
    },
    {
      "cell_type": "code",
      "source": [
        "#Correlacion\n",
        "np.corrcoef(array1)"
      ],
      "metadata": {
        "colab": {
          "base_uri": "https://localhost:8080/"
        },
        "id": "uvchtDtWP_ra",
        "outputId": "f788b5c7-62d7-4fc2-fb42-a659c14cb12b"
      },
      "execution_count": null,
      "outputs": [
        {
          "output_type": "execute_result",
          "data": {
            "text/plain": [
              "array([[ 1.        ,  0.5791216 ,  0.89361353,  0.66191911, -0.8355748 ],\n",
              "       [ 0.5791216 ,  1.        ,  0.46901381,  0.40788429, -0.19252115],\n",
              "       [ 0.89361353,  0.46901381,  1.        ,  0.92154485, -0.59116887],\n",
              "       [ 0.66191911,  0.40788429,  0.92154485,  1.        , -0.2545396 ],\n",
              "       [-0.8355748 , -0.19252115, -0.59116887, -0.2545396 ,  1.        ]])"
            ]
          },
          "metadata": {},
          "execution_count": 35
        }
      ]
    },
    {
      "cell_type": "code",
      "source": [
        "#Desviacion\n",
        "np.std(array1)"
      ],
      "metadata": {
        "colab": {
          "base_uri": "https://localhost:8080/"
        },
        "id": "a80afpGSQFOo",
        "outputId": "046601e2-527b-4417-8823-3e769369de49"
      },
      "execution_count": null,
      "outputs": [
        {
          "output_type": "execute_result",
          "data": {
            "text/plain": [
              "0.24579103753282674"
            ]
          },
          "metadata": {},
          "execution_count": 36
        }
      ]
    },
    {
      "cell_type": "markdown",
      "source": [
        "#Copiando arrays"
      ],
      "metadata": {
        "id": "qkR0rDPgHpA4"
      }
    },
    {
      "cell_type": "code",
      "source": [
        "array1=np.random.randint(21,size=(4,4))\n",
        "array1"
      ],
      "metadata": {
        "id": "mTzm7lvlQLZs",
        "colab": {
          "base_uri": "https://localhost:8080/"
        },
        "outputId": "e0a3b3b6-18ca-4263-c07d-26d69469f1e6"
      },
      "execution_count": 6,
      "outputs": [
        {
          "output_type": "execute_result",
          "data": {
            "text/plain": [
              "array([[12, 10, 14, 16],\n",
              "       [15,  0,  1,  2],\n",
              "       [20, 20,  6,  7],\n",
              "       [ 4, 10, 20, 11]])"
            ]
          },
          "metadata": {},
          "execution_count": 6
        }
      ]
    },
    {
      "cell_type": "code",
      "source": [
        "#Crea una imagen del array, el valor cambiado se refleja en los dos\n",
        "array_cop=array1.view()\n",
        "array_cop"
      ],
      "metadata": {
        "colab": {
          "base_uri": "https://localhost:8080/"
        },
        "id": "ClvQpBtRH5iw",
        "outputId": "76df3424-deff-4be8-b890-16e5e90df198"
      },
      "execution_count": 7,
      "outputs": [
        {
          "output_type": "execute_result",
          "data": {
            "text/plain": [
              "array([[12, 10, 14, 16],\n",
              "       [15,  0,  1,  2],\n",
              "       [20, 20,  6,  7],\n",
              "       [ 4, 10, 20, 11]])"
            ]
          },
          "metadata": {},
          "execution_count": 7
        }
      ]
    },
    {
      "cell_type": "code",
      "source": [
        "np.array_equal(array1,array_cop)"
      ],
      "metadata": {
        "colab": {
          "base_uri": "https://localhost:8080/"
        },
        "id": "gHHMXOHDH6qg",
        "outputId": "e827db80-b5dc-4a62-bc91-8e997cbb024b"
      },
      "execution_count": 8,
      "outputs": [
        {
          "output_type": "execute_result",
          "data": {
            "text/plain": [
              "True"
            ]
          },
          "metadata": {},
          "execution_count": 8
        }
      ]
    },
    {
      "cell_type": "code",
      "source": [
        "#Modificamos un valor de la copia\n",
        "array_cop[0,1]=99\n",
        "array_cop"
      ],
      "metadata": {
        "colab": {
          "base_uri": "https://localhost:8080/"
        },
        "id": "AHcGfUyAId1H",
        "outputId": "6e8d0e1e-da1a-4e33-da70-8080b5ece1e8"
      },
      "execution_count": 12,
      "outputs": [
        {
          "output_type": "execute_result",
          "data": {
            "text/plain": [
              "array([[12, 99, 14, 16],\n",
              "       [15,  0,  1,  2],\n",
              "       [20, 20,  6,  7],\n",
              "       [ 4, 10, 20, 11]])"
            ]
          },
          "metadata": {},
          "execution_count": 12
        }
      ]
    },
    {
      "cell_type": "code",
      "source": [
        "#Modificamos un valor del original\n",
        "array1[1,2]=88\n",
        "array1"
      ],
      "metadata": {
        "colab": {
          "base_uri": "https://localhost:8080/"
        },
        "id": "YsWHA7uZJKFq",
        "outputId": "29fc9f5c-db9e-43bd-8706-c7e15d355f39"
      },
      "execution_count": 13,
      "outputs": [
        {
          "output_type": "execute_result",
          "data": {
            "text/plain": [
              "array([[12, 99, 14, 16],\n",
              "       [15,  0, 88,  2],\n",
              "       [20, 20,  6,  7],\n",
              "       [ 4, 10, 20, 11]])"
            ]
          },
          "metadata": {},
          "execution_count": 13
        }
      ]
    },
    {
      "cell_type": "code",
      "source": [
        "array_cop"
      ],
      "metadata": {
        "colab": {
          "base_uri": "https://localhost:8080/"
        },
        "id": "bLF1bX1tJLoU",
        "outputId": "d6a9e23f-4409-48c8-9f1b-515ee134e883"
      },
      "execution_count": 14,
      "outputs": [
        {
          "output_type": "execute_result",
          "data": {
            "text/plain": [
              "array([[12, 99, 14, 16],\n",
              "       [15,  0, 88,  2],\n",
              "       [20, 20,  6,  7],\n",
              "       [ 4, 10, 20, 11]])"
            ]
          },
          "metadata": {},
          "execution_count": 14
        }
      ]
    },
    {
      "cell_type": "code",
      "source": [
        "#Creamos copia independiente\n",
        "array_cop2 = np.copy(array1)\n",
        "array_cop2"
      ],
      "metadata": {
        "colab": {
          "base_uri": "https://localhost:8080/"
        },
        "id": "8KAQ4tiYJpfl",
        "outputId": "1eb9a6dc-5239-4e6d-d56d-1698e36f3292"
      },
      "execution_count": 15,
      "outputs": [
        {
          "output_type": "execute_result",
          "data": {
            "text/plain": [
              "array([[12, 99, 14, 16],\n",
              "       [15,  0, 88,  2],\n",
              "       [20, 20,  6,  7],\n",
              "       [ 4, 10, 20, 11]])"
            ]
          },
          "metadata": {},
          "execution_count": 15
        }
      ]
    },
    {
      "cell_type": "code",
      "source": [
        "array_cop2[2,3]=77\n",
        "array_cop2"
      ],
      "metadata": {
        "colab": {
          "base_uri": "https://localhost:8080/"
        },
        "id": "IaOYgUuwKCJ3",
        "outputId": "254df089-aa4c-4246-e455-145d8d6d68ee"
      },
      "execution_count": 16,
      "outputs": [
        {
          "output_type": "execute_result",
          "data": {
            "text/plain": [
              "array([[12, 99, 14, 16],\n",
              "       [15,  0, 88,  2],\n",
              "       [20, 20,  6, 77],\n",
              "       [ 4, 10, 20, 11]])"
            ]
          },
          "metadata": {},
          "execution_count": 16
        }
      ]
    },
    {
      "cell_type": "code",
      "source": [
        "array1"
      ],
      "metadata": {
        "colab": {
          "base_uri": "https://localhost:8080/"
        },
        "id": "Bx0hS4CSKTuH",
        "outputId": "a2582493-4602-4454-981e-177ea9880af2"
      },
      "execution_count": 17,
      "outputs": [
        {
          "output_type": "execute_result",
          "data": {
            "text/plain": [
              "array([[12, 99, 14, 16],\n",
              "       [15,  0, 88,  2],\n",
              "       [20, 20,  6,  7],\n",
              "       [ 4, 10, 20, 11]])"
            ]
          },
          "metadata": {},
          "execution_count": 17
        }
      ]
    },
    {
      "cell_type": "code",
      "source": [
        "array_cop2 = array1 * 3\n",
        "array_cop2"
      ],
      "metadata": {
        "colab": {
          "base_uri": "https://localhost:8080/"
        },
        "id": "oVsuzQF_KXrM",
        "outputId": "2eece667-9b02-43dc-8f60-439214903b51"
      },
      "execution_count": 19,
      "outputs": [
        {
          "output_type": "execute_result",
          "data": {
            "text/plain": [
              "array([[ 36, 297,  42,  48],\n",
              "       [ 45,   0, 264,   6],\n",
              "       [ 60,  60,  18,  21],\n",
              "       [ 12,  30,  60,  33]])"
            ]
          },
          "metadata": {},
          "execution_count": 19
        }
      ]
    },
    {
      "cell_type": "code",
      "source": [
        "array1"
      ],
      "metadata": {
        "colab": {
          "base_uri": "https://localhost:8080/"
        },
        "id": "OSLgr2gGKnNr",
        "outputId": "905f7f2a-bd72-4520-bb9f-aa782ad60b9f"
      },
      "execution_count": 20,
      "outputs": [
        {
          "output_type": "execute_result",
          "data": {
            "text/plain": [
              "array([[12, 99, 14, 16],\n",
              "       [15,  0, 88,  2],\n",
              "       [20, 20,  6,  7],\n",
              "       [ 4, 10, 20, 11]])"
            ]
          },
          "metadata": {},
          "execution_count": 20
        }
      ]
    },
    {
      "cell_type": "code",
      "source": [
        "array_cop2=array1.copy()\n",
        "array_cop2"
      ],
      "metadata": {
        "colab": {
          "base_uri": "https://localhost:8080/"
        },
        "id": "d-Syuo1pKr-X",
        "outputId": "850046aa-71fc-4334-ca37-7671d87fad83"
      },
      "execution_count": 21,
      "outputs": [
        {
          "output_type": "execute_result",
          "data": {
            "text/plain": [
              "array([[12, 99, 14, 16],\n",
              "       [15,  0, 88,  2],\n",
              "       [20, 20,  6,  7],\n",
              "       [ 4, 10, 20, 11]])"
            ]
          },
          "metadata": {},
          "execution_count": 21
        }
      ]
    },
    {
      "cell_type": "code",
      "source": [
        "array1"
      ],
      "metadata": {
        "colab": {
          "base_uri": "https://localhost:8080/"
        },
        "id": "djpJOWarOEMn",
        "outputId": "6fa21527-d8fb-48a3-db86-a08c5f56c61f"
      },
      "execution_count": 22,
      "outputs": [
        {
          "output_type": "execute_result",
          "data": {
            "text/plain": [
              "array([[12, 99, 14, 16],\n",
              "       [15,  0, 88,  2],\n",
              "       [20, 20,  6,  7],\n",
              "       [ 4, 10, 20, 11]])"
            ]
          },
          "metadata": {},
          "execution_count": 22
        }
      ]
    },
    {
      "cell_type": "code",
      "source": [
        "np.array_equal(array1,array_cop2)"
      ],
      "metadata": {
        "colab": {
          "base_uri": "https://localhost:8080/"
        },
        "id": "8c40PStLOFuB",
        "outputId": "13640b36-fe79-42dd-bef5-ecd30112e2b0"
      },
      "execution_count": 23,
      "outputs": [
        {
          "output_type": "execute_result",
          "data": {
            "text/plain": [
              "True"
            ]
          },
          "metadata": {},
          "execution_count": 23
        }
      ]
    },
    {
      "cell_type": "markdown",
      "source": [
        "#Arrays, ordenamiento"
      ],
      "metadata": {
        "id": "_FADIrlKOans"
      }
    },
    {
      "cell_type": "code",
      "source": [
        "array_1 = np.random.randint(41,size=(10,10))\n",
        "array_1"
      ],
      "metadata": {
        "colab": {
          "base_uri": "https://localhost:8080/"
        },
        "id": "-PDuGu-KOWSW",
        "outputId": "85851257-e245-4ab9-c7be-a3ffe51d8f5f"
      },
      "execution_count": 37,
      "outputs": [
        {
          "output_type": "execute_result",
          "data": {
            "text/plain": [
              "array([[30, 20, 23, 29, 25, 33,  1, 32,  3, 13],\n",
              "       [29, 27,  9,  3, 22, 23, 11,  7, 24, 33],\n",
              "       [ 9, 30,  4, 24,  4, 37, 24, 26,  2, 25],\n",
              "       [23, 10, 29, 31,  1, 21,  9, 27,  1, 35],\n",
              "       [13,  9, 23, 16,  6, 34,  7,  0, 36, 24],\n",
              "       [37, 22, 12, 31, 38, 35, 16, 32, 35, 12],\n",
              "       [34, 30, 19, 26, 32, 35, 13, 35, 34, 14],\n",
              "       [40,  5, 16, 20, 40, 33, 33,  9,  5, 27],\n",
              "       [40, 37, 23,  7, 22, 17, 15, 18, 40,  5],\n",
              "       [ 6, 32, 19, 26,  9,  9, 21, 22, 33, 25]])"
            ]
          },
          "metadata": {},
          "execution_count": 37
        }
      ]
    },
    {
      "cell_type": "code",
      "source": [
        "array_2 = np.random.randint(31,size=(10,10))\n",
        "array_2"
      ],
      "metadata": {
        "colab": {
          "base_uri": "https://localhost:8080/"
        },
        "id": "dmsQyHRzO5A4",
        "outputId": "0f170c95-f328-49c5-e083-c8a8c92f4726"
      },
      "execution_count": 40,
      "outputs": [
        {
          "output_type": "execute_result",
          "data": {
            "text/plain": [
              "array([[ 2,  8, 17,  9, 30, 17, 11,  5, 19,  4],\n",
              "       [26, 12, 20,  5, 11, 23,  2, 30, 30, 23],\n",
              "       [16, 16, 17,  3,  3,  5, 25,  9, 12, 11],\n",
              "       [ 6, 27,  4, 25,  2, 14, 29, 12, 16, 28],\n",
              "       [21,  5,  9, 14,  0,  7,  9, 30, 15, 10],\n",
              "       [ 4,  5,  3, 16, 26, 26,  6, 23, 30, 25],\n",
              "       [24,  0, 13,  6,  2, 16, 27,  1, 13,  3],\n",
              "       [24,  3, 12, 30, 10, 12,  3, 14, 17, 15],\n",
              "       [12, 24, 30, 22, 15,  9, 11, 11, 29,  0],\n",
              "       [18,  7, 15, 29, 28, 29, 14, 17,  6, 12]])"
            ]
          },
          "metadata": {},
          "execution_count": 40
        }
      ]
    },
    {
      "cell_type": "code",
      "source": [
        "array_1"
      ],
      "metadata": {
        "colab": {
          "base_uri": "https://localhost:8080/"
        },
        "id": "pTOxfiGMPC8D",
        "outputId": "bd22a4ff-6014-46e9-e8c8-9f97347a32da"
      },
      "execution_count": 26,
      "outputs": [
        {
          "output_type": "execute_result",
          "data": {
            "text/plain": [
              "array([[28, 27,  7, 17,  6,  1,  2, 19, 10, 25],\n",
              "       [23, 33, 39, 27,  1, 30, 33, 15, 10, 40],\n",
              "       [ 5,  5, 28,  1, 10, 11, 30,  1, 34,  3],\n",
              "       [ 6, 16,  6, 15, 23, 38,  6, 36,  7,  2],\n",
              "       [ 3,  7, 20, 27, 35, 19, 30, 19, 21, 28],\n",
              "       [11,  3,  7,  0, 19, 17, 32, 12, 27, 40],\n",
              "       [ 0,  0, 40, 23, 38, 39, 23, 38, 34, 21],\n",
              "       [27, 22, 26,  8,  4, 21, 36,  3, 32,  4],\n",
              "       [15, 31, 13, 11, 29, 19, 16, 24, 17, 10],\n",
              "       [ 1,  8, 40,  6, 12, 27, 11, 33, 18, 12]])"
            ]
          },
          "metadata": {},
          "execution_count": 26
        }
      ]
    },
    {
      "cell_type": "code",
      "source": [
        "array_1.sort()\n",
        "array_1"
      ],
      "metadata": {
        "colab": {
          "base_uri": "https://localhost:8080/"
        },
        "id": "v-CYYe4QPRg9",
        "outputId": "965e79dc-7474-4253-8a0b-89da58fdfdb9"
      },
      "execution_count": 28,
      "outputs": [
        {
          "output_type": "execute_result",
          "data": {
            "text/plain": [
              "array([[ 1,  2,  6,  7, 10, 17, 19, 25, 27, 28],\n",
              "       [ 1, 10, 15, 23, 27, 30, 33, 33, 39, 40],\n",
              "       [ 1,  1,  3,  5,  5, 10, 11, 28, 30, 34],\n",
              "       [ 2,  6,  6,  6,  7, 15, 16, 23, 36, 38],\n",
              "       [ 3,  7, 19, 19, 20, 21, 27, 28, 30, 35],\n",
              "       [ 0,  3,  7, 11, 12, 17, 19, 27, 32, 40],\n",
              "       [ 0,  0, 21, 23, 23, 34, 38, 38, 39, 40],\n",
              "       [ 3,  4,  4,  8, 21, 22, 26, 27, 32, 36],\n",
              "       [10, 11, 13, 15, 16, 17, 19, 24, 29, 31],\n",
              "       [ 1,  6,  8, 11, 12, 12, 18, 27, 33, 40]])"
            ]
          },
          "metadata": {},
          "execution_count": 28
        }
      ]
    },
    {
      "cell_type": "code",
      "source": [
        "array_1.sort(axis=1)\n",
        "array_1"
      ],
      "metadata": {
        "colab": {
          "base_uri": "https://localhost:8080/"
        },
        "id": "Ox0EPp-gQsNe",
        "outputId": "b2d9577f-b60c-4e38-cf9a-264578787676"
      },
      "execution_count": 38,
      "outputs": [
        {
          "output_type": "execute_result",
          "data": {
            "text/plain": [
              "array([[ 1,  3, 13, 20, 23, 25, 29, 30, 32, 33],\n",
              "       [ 3,  7,  9, 11, 22, 23, 24, 27, 29, 33],\n",
              "       [ 2,  4,  4,  9, 24, 24, 25, 26, 30, 37],\n",
              "       [ 1,  1,  9, 10, 21, 23, 27, 29, 31, 35],\n",
              "       [ 0,  6,  7,  9, 13, 16, 23, 24, 34, 36],\n",
              "       [12, 12, 16, 22, 31, 32, 35, 35, 37, 38],\n",
              "       [13, 14, 19, 26, 30, 32, 34, 34, 35, 35],\n",
              "       [ 5,  5,  9, 16, 20, 27, 33, 33, 40, 40],\n",
              "       [ 5,  7, 15, 17, 18, 22, 23, 37, 40, 40],\n",
              "       [ 6,  9,  9, 19, 21, 22, 25, 26, 32, 33]])"
            ]
          },
          "metadata": {},
          "execution_count": 38
        }
      ]
    },
    {
      "cell_type": "code",
      "source": [
        "array_2"
      ],
      "metadata": {
        "colab": {
          "base_uri": "https://localhost:8080/"
        },
        "id": "kIAQpM9nRk5Y",
        "outputId": "6880e0fd-7b61-42e8-9a36-26898dd3cced"
      },
      "execution_count": 41,
      "outputs": [
        {
          "output_type": "execute_result",
          "data": {
            "text/plain": [
              "array([[ 2,  8, 17,  9, 30, 17, 11,  5, 19,  4],\n",
              "       [26, 12, 20,  5, 11, 23,  2, 30, 30, 23],\n",
              "       [16, 16, 17,  3,  3,  5, 25,  9, 12, 11],\n",
              "       [ 6, 27,  4, 25,  2, 14, 29, 12, 16, 28],\n",
              "       [21,  5,  9, 14,  0,  7,  9, 30, 15, 10],\n",
              "       [ 4,  5,  3, 16, 26, 26,  6, 23, 30, 25],\n",
              "       [24,  0, 13,  6,  2, 16, 27,  1, 13,  3],\n",
              "       [24,  3, 12, 30, 10, 12,  3, 14, 17, 15],\n",
              "       [12, 24, 30, 22, 15,  9, 11, 11, 29,  0],\n",
              "       [18,  7, 15, 29, 28, 29, 14, 17,  6, 12]])"
            ]
          },
          "metadata": {},
          "execution_count": 41
        }
      ]
    },
    {
      "cell_type": "code",
      "source": [
        "array_2.sort(axis=0)\n",
        "array_2"
      ],
      "metadata": {
        "colab": {
          "base_uri": "https://localhost:8080/"
        },
        "id": "pzfrlHn0Rerk",
        "outputId": "f328fed0-5681-4fa5-ec7a-3412417d3416"
      },
      "execution_count": 42,
      "outputs": [
        {
          "output_type": "execute_result",
          "data": {
            "text/plain": [
              "array([[ 2,  0,  3,  3,  0,  5,  2,  1,  6,  0],\n",
              "       [ 4,  3,  4,  5,  2,  7,  3,  5, 12,  3],\n",
              "       [ 6,  5,  9,  6,  2,  9,  6,  9, 13,  4],\n",
              "       [12,  5, 12,  9,  3, 12,  9, 11, 15, 10],\n",
              "       [16,  7, 13, 14, 10, 14, 11, 12, 16, 11],\n",
              "       [18,  8, 15, 16, 11, 16, 11, 14, 17, 12],\n",
              "       [21, 12, 17, 22, 15, 17, 14, 17, 19, 15],\n",
              "       [24, 16, 17, 25, 26, 23, 25, 23, 29, 23],\n",
              "       [24, 24, 20, 29, 28, 26, 27, 30, 30, 25],\n",
              "       [26, 27, 30, 30, 30, 29, 29, 30, 30, 28]])"
            ]
          },
          "metadata": {},
          "execution_count": 42
        }
      ]
    }
  ]
}