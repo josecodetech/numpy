{
  "nbformat": 4,
  "nbformat_minor": 0,
  "metadata": {
    "colab": {
      "provenance": []
    },
    "kernelspec": {
      "name": "python3",
      "display_name": "Python 3"
    },
    "language_info": {
      "name": "python"
    }
  },
  "cells": [
    {
      "cell_type": "markdown",
      "source": [
        "#Numpy, libreria para ciencia de datos"
      ],
      "metadata": {
        "id": "Qt2cbP-eV24w"
      }
    },
    {
      "cell_type": "code",
      "execution_count": 1,
      "metadata": {
        "id": "xyjKX8JMV00r"
      },
      "outputs": [],
      "source": [
        "import numpy as np \n",
        "#pip install numpy"
      ]
    },
    {
      "cell_type": "code",
      "source": [
        "array_1d=np.array([1,4,3])\n",
        "print(array_1d)\n"
      ],
      "metadata": {
        "colab": {
          "base_uri": "https://localhost:8080/"
        },
        "id": "2PY4MZwuZXDd",
        "outputId": "8edda8e5-7411-419f-86f1-35e50299a4cd"
      },
      "execution_count": 3,
      "outputs": [
        {
          "output_type": "stream",
          "name": "stdout",
          "text": [
            "[1 4 3]\n"
          ]
        }
      ]
    },
    {
      "cell_type": "code",
      "source": [
        "array_1d"
      ],
      "metadata": {
        "colab": {
          "base_uri": "https://localhost:8080/"
        },
        "id": "vm9PGpVeaELZ",
        "outputId": "b2267aaf-f8f4-4955-9555-e708b2214452"
      },
      "execution_count": 5,
      "outputs": [
        {
          "output_type": "execute_result",
          "data": {
            "text/plain": [
              "array([1, 4, 3])"
            ]
          },
          "metadata": {},
          "execution_count": 5
        }
      ]
    },
    {
      "cell_type": "code",
      "source": [
        "array_2d=np.array([(1,4,2),(5,2,3)])\n",
        "array_2d"
      ],
      "metadata": {
        "colab": {
          "base_uri": "https://localhost:8080/"
        },
        "id": "jS3dTgujaUNn",
        "outputId": "c6208155-5893-4aad-a9b5-fc8a77887430"
      },
      "execution_count": 7,
      "outputs": [
        {
          "output_type": "execute_result",
          "data": {
            "text/plain": [
              "array([[1, 4, 2],\n",
              "       [5, 2, 3]])"
            ]
          },
          "metadata": {},
          "execution_count": 7
        }
      ]
    },
    {
      "cell_type": "code",
      "source": [
        "array_3d=np.array([[(1.6,4.5,2),(1,5.8,9)],[(7,5,9.3),(8,1.4,3)],[(3,5,3),(7,2,9)]],dtype=float)\n",
        "array_3d"
      ],
      "metadata": {
        "colab": {
          "base_uri": "https://localhost:8080/"
        },
        "id": "6Q5JtZ7BafH4",
        "outputId": "3a31520b-3d67-47ce-86fa-089ecbf31aa1"
      },
      "execution_count": 10,
      "outputs": [
        {
          "output_type": "execute_result",
          "data": {
            "text/plain": [
              "array([[[1.6, 4.5, 2. ],\n",
              "        [1. , 5.8, 9. ]],\n",
              "\n",
              "       [[7. , 5. , 9.3],\n",
              "        [8. , 1.4, 3. ]],\n",
              "\n",
              "       [[3. , 5. , 3. ],\n",
              "        [7. , 2. , 9. ]]])"
            ]
          },
          "metadata": {},
          "execution_count": 10
        }
      ]
    },
    {
      "cell_type": "code",
      "source": [
        "print(array_3d)"
      ],
      "metadata": {
        "colab": {
          "base_uri": "https://localhost:8080/"
        },
        "id": "a7enQ-tfbHA5",
        "outputId": "2edc6d0e-a3fe-47d9-d4ec-30e8c5b36b38"
      },
      "execution_count": 11,
      "outputs": [
        {
          "output_type": "stream",
          "name": "stdout",
          "text": [
            "[[[1.6 4.5 2. ]\n",
            "  [1.  5.8 9. ]]\n",
            "\n",
            " [[7.  5.  9.3]\n",
            "  [8.  1.4 3. ]]\n",
            "\n",
            " [[3.  5.  3. ]\n",
            "  [7.  2.  9. ]]]\n"
          ]
        }
      ]
    },
    {
      "cell_type": "code",
      "source": [],
      "metadata": {
        "id": "95BfDw62baL_"
      },
      "execution_count": null,
      "outputs": []
    }
  ]
}