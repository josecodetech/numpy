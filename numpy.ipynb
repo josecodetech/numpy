{
  "nbformat": 4,
  "nbformat_minor": 0,
  "metadata": {
    "colab": {
      "provenance": [],
      "collapsed_sections": []
    },
    "kernelspec": {
      "name": "python3",
      "display_name": "Python 3"
    },
    "language_info": {
      "name": "python"
    }
  },
  "cells": [
    {
      "cell_type": "markdown",
      "source": [
        "#Numpy, libreria para ciencia de datos"
      ],
      "metadata": {
        "id": "Qt2cbP-eV24w"
      }
    },
    {
      "cell_type": "code",
      "execution_count": 1,
      "metadata": {
        "id": "xyjKX8JMV00r"
      },
      "outputs": [],
      "source": [
        "import numpy as np \n",
        "#pip install numpy"
      ]
    },
    {
      "cell_type": "code",
      "source": [
        "array_1d=np.array([1,4,3])\n",
        "print(array_1d)\n"
      ],
      "metadata": {
        "colab": {
          "base_uri": "https://localhost:8080/"
        },
        "id": "2PY4MZwuZXDd",
        "outputId": "5aae11b2-f1ec-4ce8-b2cb-6b761b9e6709"
      },
      "execution_count": 2,
      "outputs": [
        {
          "output_type": "stream",
          "name": "stdout",
          "text": [
            "[1 4 3]\n"
          ]
        }
      ]
    },
    {
      "cell_type": "code",
      "source": [
        "array_1d"
      ],
      "metadata": {
        "colab": {
          "base_uri": "https://localhost:8080/"
        },
        "id": "vm9PGpVeaELZ",
        "outputId": "ffc5524f-11f8-49ae-dd5b-93c09bb73ed3"
      },
      "execution_count": 3,
      "outputs": [
        {
          "output_type": "execute_result",
          "data": {
            "text/plain": [
              "array([1, 4, 3])"
            ]
          },
          "metadata": {},
          "execution_count": 3
        }
      ]
    },
    {
      "cell_type": "code",
      "source": [
        "array_2d=np.array([(1,4,2),(5,2,3)])\n",
        "array_2d"
      ],
      "metadata": {
        "colab": {
          "base_uri": "https://localhost:8080/"
        },
        "id": "jS3dTgujaUNn",
        "outputId": "10d532e7-a905-4fdf-d084-3fd7f2e1c3ba"
      },
      "execution_count": 4,
      "outputs": [
        {
          "output_type": "execute_result",
          "data": {
            "text/plain": [
              "array([[1, 4, 2],\n",
              "       [5, 2, 3]])"
            ]
          },
          "metadata": {},
          "execution_count": 4
        }
      ]
    },
    {
      "cell_type": "code",
      "source": [
        "array_3d=np.array([[(1.6,4.5,2),(1,5.8,9)],[(7,5,9.3),(8,1.4,3)],[(3,5,3),(7,2,9)]],dtype=float)\n",
        "array_3d"
      ],
      "metadata": {
        "colab": {
          "base_uri": "https://localhost:8080/"
        },
        "id": "6Q5JtZ7BafH4",
        "outputId": "048f686a-ffa3-4f5a-a588-38da1fe26b45"
      },
      "execution_count": 5,
      "outputs": [
        {
          "output_type": "execute_result",
          "data": {
            "text/plain": [
              "array([[[1.6, 4.5, 2. ],\n",
              "        [1. , 5.8, 9. ]],\n",
              "\n",
              "       [[7. , 5. , 9.3],\n",
              "        [8. , 1.4, 3. ]],\n",
              "\n",
              "       [[3. , 5. , 3. ],\n",
              "        [7. , 2. , 9. ]]])"
            ]
          },
          "metadata": {},
          "execution_count": 5
        }
      ]
    },
    {
      "cell_type": "code",
      "source": [
        "print(array_3d)"
      ],
      "metadata": {
        "colab": {
          "base_uri": "https://localhost:8080/"
        },
        "id": "a7enQ-tfbHA5",
        "outputId": "207dcaa7-f14f-4acf-a839-8fd6a1b13ae7"
      },
      "execution_count": 6,
      "outputs": [
        {
          "output_type": "stream",
          "name": "stdout",
          "text": [
            "[[[1.6 4.5 2. ]\n",
            "  [1.  5.8 9. ]]\n",
            "\n",
            " [[7.  5.  9.3]\n",
            "  [8.  1.4 3. ]]\n",
            "\n",
            " [[3.  5.  3. ]\n",
            "  [7.  2.  9. ]]]\n"
          ]
        }
      ]
    },
    {
      "cell_type": "markdown",
      "source": [
        "#Creando Arrays"
      ],
      "metadata": {
        "id": "jZtofP53nl-r"
      }
    },
    {
      "cell_type": "code",
      "source": [
        "#De ceros con 3 filas y 4 columnas\n",
        "array_ceros=np.zeros((3,4))\n",
        "array_ceros"
      ],
      "metadata": {
        "colab": {
          "base_uri": "https://localhost:8080/"
        },
        "id": "95BfDw62baL_",
        "outputId": "df00a8e7-9b35-4d0d-b9e4-1f9d2394823b"
      },
      "execution_count": 7,
      "outputs": [
        {
          "output_type": "execute_result",
          "data": {
            "text/plain": [
              "array([[0., 0., 0., 0.],\n",
              "       [0., 0., 0., 0.],\n",
              "       [0., 0., 0., 0.]])"
            ]
          },
          "metadata": {},
          "execution_count": 7
        }
      ]
    },
    {
      "cell_type": "code",
      "source": [
        "print(np.zeros((4,5)))"
      ],
      "metadata": {
        "colab": {
          "base_uri": "https://localhost:8080/"
        },
        "id": "JzfhUUVTnx9D",
        "outputId": "93a00ccd-1608-4997-cfae-981da42c2319"
      },
      "execution_count": 8,
      "outputs": [
        {
          "output_type": "stream",
          "name": "stdout",
          "text": [
            "[[0. 0. 0. 0. 0.]\n",
            " [0. 0. 0. 0. 0.]\n",
            " [0. 0. 0. 0. 0.]\n",
            " [0. 0. 0. 0. 0.]]\n"
          ]
        }
      ]
    },
    {
      "cell_type": "code",
      "source": [
        "#De unos con 2 dimensiones 4 filas 5 columnas\n",
        "np.ones((2,4,5))"
      ],
      "metadata": {
        "colab": {
          "base_uri": "https://localhost:8080/"
        },
        "id": "6UA1KdwUn6Nd",
        "outputId": "b58a7440-4274-4a48-943e-a9bdc03be86f"
      },
      "execution_count": 9,
      "outputs": [
        {
          "output_type": "execute_result",
          "data": {
            "text/plain": [
              "array([[[1., 1., 1., 1., 1.],\n",
              "        [1., 1., 1., 1., 1.],\n",
              "        [1., 1., 1., 1., 1.],\n",
              "        [1., 1., 1., 1., 1.]],\n",
              "\n",
              "       [[1., 1., 1., 1., 1.],\n",
              "        [1., 1., 1., 1., 1.],\n",
              "        [1., 1., 1., 1., 1.],\n",
              "        [1., 1., 1., 1., 1.]]])"
            ]
          },
          "metadata": {},
          "execution_count": 9
        }
      ]
    },
    {
      "cell_type": "code",
      "source": [
        "#Intervalo y saltos\n",
        "np.arange(12,31,2)"
      ],
      "metadata": {
        "colab": {
          "base_uri": "https://localhost:8080/"
        },
        "id": "eP6z471woN2t",
        "outputId": "73676fd6-dfe6-4064-d603-17a19df7c911"
      },
      "execution_count": 10,
      "outputs": [
        {
          "output_type": "execute_result",
          "data": {
            "text/plain": [
              "array([12, 14, 16, 18, 20, 22, 24, 26, 28, 30])"
            ]
          },
          "metadata": {},
          "execution_count": 10
        }
      ]
    },
    {
      "cell_type": "code",
      "source": [
        "#Intervalo y divisiones\n",
        "np.linspace(0,4,7)"
      ],
      "metadata": {
        "colab": {
          "base_uri": "https://localhost:8080/"
        },
        "id": "1XQLxWRQoaST",
        "outputId": "6eb60179-4a2a-49c8-daa3-92dbecac799b"
      },
      "execution_count": 11,
      "outputs": [
        {
          "output_type": "execute_result",
          "data": {
            "text/plain": [
              "array([0.        , 0.66666667, 1.33333333, 2.        , 2.66666667,\n",
              "       3.33333333, 4.        ])"
            ]
          },
          "metadata": {},
          "execution_count": 11
        }
      ]
    },
    {
      "cell_type": "code",
      "source": [
        "#Valor dado\n",
        "np.full((3,3),7)"
      ],
      "metadata": {
        "colab": {
          "base_uri": "https://localhost:8080/"
        },
        "id": "Q4jKricCouQN",
        "outputId": "3318f1b2-74d7-4896-83a9-e917aab7cddf"
      },
      "execution_count": 12,
      "outputs": [
        {
          "output_type": "execute_result",
          "data": {
            "text/plain": [
              "array([[7, 7, 7],\n",
              "       [7, 7, 7],\n",
              "       [7, 7, 7]])"
            ]
          },
          "metadata": {},
          "execution_count": 12
        }
      ]
    },
    {
      "cell_type": "code",
      "source": [
        "#Matriz identidad, diagonal de unos\n",
        "np.eye(3)"
      ],
      "metadata": {
        "colab": {
          "base_uri": "https://localhost:8080/"
        },
        "id": "TVXefEqXpCKX",
        "outputId": "ce07ca3a-4f96-4af0-e73c-8b09433ee154"
      },
      "execution_count": 13,
      "outputs": [
        {
          "output_type": "execute_result",
          "data": {
            "text/plain": [
              "array([[1., 0., 0.],\n",
              "       [0., 1., 0.],\n",
              "       [0., 0., 1.]])"
            ]
          },
          "metadata": {},
          "execution_count": 13
        }
      ]
    },
    {
      "cell_type": "code",
      "source": [
        "#Valores aleatorios entre 0 y 1\n",
        "np.random.random((4,4))"
      ],
      "metadata": {
        "colab": {
          "base_uri": "https://localhost:8080/"
        },
        "id": "_jTAb_bFpOV6",
        "outputId": "dc57c16e-6932-4def-d8f1-0d5ba9a1f3a6"
      },
      "execution_count": 14,
      "outputs": [
        {
          "output_type": "execute_result",
          "data": {
            "text/plain": [
              "array([[0.75285211, 0.11858646, 0.36126724, 0.45727286],\n",
              "       [0.25994762, 0.61445816, 0.76870491, 0.91567557],\n",
              "       [0.85643901, 0.57397506, 0.15088249, 0.40463163],\n",
              "       [0.59626211, 0.53078446, 0.59686667, 0.35896276]])"
            ]
          },
          "metadata": {},
          "execution_count": 14
        }
      ]
    },
    {
      "cell_type": "code",
      "source": [
        "#Vacio de 4 filas y 3 columnas\n",
        "np.empty((4,3))"
      ],
      "metadata": {
        "colab": {
          "base_uri": "https://localhost:8080/"
        },
        "id": "X9OqStRApboG",
        "outputId": "20bf5c51-81bb-418f-efbb-0fcb2911a71a"
      },
      "execution_count": 15,
      "outputs": [
        {
          "output_type": "execute_result",
          "data": {
            "text/plain": [
              "array([[0., 0., 0.],\n",
              "       [0., 0., 0.],\n",
              "       [0., 0., 0.],\n",
              "       [0., 0., 0.]])"
            ]
          },
          "metadata": {},
          "execution_count": 15
        }
      ]
    },
    {
      "cell_type": "markdown",
      "source": [
        "#Grabar y cargar"
      ],
      "metadata": {
        "id": "DPgHRPoD7T3W"
      }
    },
    {
      "cell_type": "code",
      "source": [
        "#Grabar\n",
        "#np.save('mi_array',np.random.random((3,3)))\n",
        "np.save('mi_array_3d',array_3d)"
      ],
      "metadata": {
        "id": "hDuTx54cp32T"
      },
      "execution_count": 20,
      "outputs": []
    },
    {
      "cell_type": "code",
      "source": [
        "#Cargar\n",
        "mi_array=np.load('mi_array_3d.npy')\n",
        "mi_array"
      ],
      "metadata": {
        "colab": {
          "base_uri": "https://localhost:8080/"
        },
        "id": "rBZ1Cr0t7huS",
        "outputId": "8b1143c1-8596-4142-9367-f40c0ca38016"
      },
      "execution_count": 21,
      "outputs": [
        {
          "output_type": "execute_result",
          "data": {
            "text/plain": [
              "array([[[1.6, 4.5, 2. ],\n",
              "        [1. , 5.8, 9. ]],\n",
              "\n",
              "       [[7. , 5. , 9.3],\n",
              "        [8. , 1.4, 3. ]],\n",
              "\n",
              "       [[3. , 5. , 3. ],\n",
              "        [7. , 2. , 9. ]]])"
            ]
          },
          "metadata": {},
          "execution_count": 21
        }
      ]
    },
    {
      "cell_type": "code",
      "source": [
        "#Grabar a fichero de texto\n",
        "np.savetxt('mi_array.txt',array_2d,delimiter=\" \")"
      ],
      "metadata": {
        "id": "4jRAji7F7ucK"
      },
      "execution_count": 24,
      "outputs": []
    },
    {
      "cell_type": "code",
      "source": [
        "#Cargar de fichero de texto\n",
        "array_2d=np.loadtxt('mi_array.txt')\n",
        "print(array_2d)"
      ],
      "metadata": {
        "colab": {
          "base_uri": "https://localhost:8080/"
        },
        "id": "1uCWBQGk9-qZ",
        "outputId": "39530c47-043a-4943-acd1-39f0977569c6"
      },
      "execution_count": 27,
      "outputs": [
        {
          "output_type": "stream",
          "name": "stdout",
          "text": [
            "[[1. 4. 2.]\n",
            " [5. 2. 3.]]\n"
          ]
        }
      ]
    },
    {
      "cell_type": "markdown",
      "source": [
        "#Tipos de datos"
      ],
      "metadata": {
        "id": "noI4Aql9BsZj"
      }
    },
    {
      "cell_type": "code",
      "source": [
        "#Enteros\n",
        "np.int64"
      ],
      "metadata": {
        "colab": {
          "base_uri": "https://localhost:8080/"
        },
        "id": "vobaLjt_-LlX",
        "outputId": "03df032c-4447-4149-ca05-796c3e5b592e"
      },
      "execution_count": 28,
      "outputs": [
        {
          "output_type": "execute_result",
          "data": {
            "text/plain": [
              "numpy.int64"
            ]
          },
          "metadata": {},
          "execution_count": 28
        }
      ]
    },
    {
      "cell_type": "code",
      "source": [
        "#Decimal, numero doble precision o de punto flotante\n",
        "np.float64"
      ],
      "metadata": {
        "colab": {
          "base_uri": "https://localhost:8080/"
        },
        "id": "PZgnKH7JB2n3",
        "outputId": "2ccc6183-83c5-41ce-968d-0a3bef41264f"
      },
      "execution_count": 29,
      "outputs": [
        {
          "output_type": "execute_result",
          "data": {
            "text/plain": [
              "numpy.float64"
            ]
          },
          "metadata": {},
          "execution_count": 29
        }
      ]
    },
    {
      "cell_type": "code",
      "source": [
        "#Complejos\n",
        "np.complex_"
      ],
      "metadata": {
        "colab": {
          "base_uri": "https://localhost:8080/"
        },
        "id": "eJGo8jexCBQ1",
        "outputId": "f048e020-85fc-426c-c1a2-12ce9936f0a9"
      },
      "execution_count": 30,
      "outputs": [
        {
          "output_type": "execute_result",
          "data": {
            "text/plain": [
              "numpy.complex128"
            ]
          },
          "metadata": {},
          "execution_count": 30
        }
      ]
    },
    {
      "cell_type": "code",
      "source": [
        "#Boolean\n",
        "np.bool_"
      ],
      "metadata": {
        "colab": {
          "base_uri": "https://localhost:8080/"
        },
        "id": "moh_0PF4CMYx",
        "outputId": "76109285-2988-43f2-ed30-eb47dcc002b8"
      },
      "execution_count": 32,
      "outputs": [
        {
          "output_type": "execute_result",
          "data": {
            "text/plain": [
              "numpy.bool_"
            ]
          },
          "metadata": {},
          "execution_count": 32
        }
      ]
    },
    {
      "cell_type": "code",
      "source": [
        "#Objetos\n",
        "np.object_"
      ],
      "metadata": {
        "colab": {
          "base_uri": "https://localhost:8080/"
        },
        "id": "JNjUrVDCCQoQ",
        "outputId": "b69f7789-9e1b-4661-ac5b-53554c990496"
      },
      "execution_count": 33,
      "outputs": [
        {
          "output_type": "execute_result",
          "data": {
            "text/plain": [
              "numpy.object_"
            ]
          },
          "metadata": {},
          "execution_count": 33
        }
      ]
    },
    {
      "cell_type": "code",
      "source": [
        "#Cadenas\n",
        "np.string_"
      ],
      "metadata": {
        "colab": {
          "base_uri": "https://localhost:8080/"
        },
        "id": "2CoxmnEHCg_2",
        "outputId": "43d29a65-1d0a-442b-e261-e87368e24e4f"
      },
      "execution_count": 34,
      "outputs": [
        {
          "output_type": "execute_result",
          "data": {
            "text/plain": [
              "numpy.bytes_"
            ]
          },
          "metadata": {},
          "execution_count": 34
        }
      ]
    },
    {
      "cell_type": "code",
      "source": [
        "np.unicode_"
      ],
      "metadata": {
        "colab": {
          "base_uri": "https://localhost:8080/"
        },
        "id": "u9x8qya2Cka4",
        "outputId": "2f78bd83-50fb-424f-f13a-bf2e498fa995"
      },
      "execution_count": 35,
      "outputs": [
        {
          "output_type": "execute_result",
          "data": {
            "text/plain": [
              "numpy.str_"
            ]
          },
          "metadata": {},
          "execution_count": 35
        }
      ]
    },
    {
      "cell_type": "code",
      "source": [],
      "metadata": {
        "id": "G090abzMCnzT"
      },
      "execution_count": null,
      "outputs": []
    }
  ]
}