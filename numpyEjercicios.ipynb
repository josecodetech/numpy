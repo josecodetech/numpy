{
  "nbformat": 4,
  "nbformat_minor": 0,
  "metadata": {
    "colab": {
      "provenance": [],
      "collapsed_sections": []
    },
    "kernelspec": {
      "name": "python3",
      "display_name": "Python 3"
    },
    "language_info": {
      "name": "python"
    }
  },
  "cells": [
    {
      "cell_type": "code",
      "execution_count": 17,
      "metadata": {
        "id": "ZyZ273xU_1_H"
      },
      "outputs": [],
      "source": [
        "import numpy as np"
      ]
    },
    {
      "cell_type": "markdown",
      "source": [
        "Crea un array con elementos del 20 al 60 inclusives"
      ],
      "metadata": {
        "id": "R4Af36SWAJDf"
      }
    },
    {
      "cell_type": "code",
      "source": [
        "array = np.arange(20,61,1)\n",
        "array"
      ],
      "metadata": {
        "id": "gxL8R7xc_9bS",
        "outputId": "8784f91e-b3d9-4a87-fd67-e824f4515870",
        "colab": {
          "base_uri": "https://localhost:8080/"
        }
      },
      "execution_count": 18,
      "outputs": [
        {
          "output_type": "execute_result",
          "data": {
            "text/plain": [
              "array([20, 21, 22, 23, 24, 25, 26, 27, 28, 29, 30, 31, 32, 33, 34, 35, 36,\n",
              "       37, 38, 39, 40, 41, 42, 43, 44, 45, 46, 47, 48, 49, 50, 51, 52, 53,\n",
              "       54, 55, 56, 57, 58, 59, 60])"
            ]
          },
          "metadata": {},
          "execution_count": 18
        }
      ]
    },
    {
      "cell_type": "markdown",
      "source": [
        "Crea un array de una dimension con 15 elementos de unos, luego cambiar el tercer elemento a 99"
      ],
      "metadata": {
        "id": "VvUwIClSAm9V"
      }
    },
    {
      "cell_type": "code",
      "source": [
        "array = np.ones((1,15))\n",
        "array"
      ],
      "metadata": {
        "id": "Lf80YYwZADEC",
        "outputId": "bb9cae3b-4156-4e36-da66-c5040233ec2a",
        "colab": {
          "base_uri": "https://localhost:8080/"
        }
      },
      "execution_count": 19,
      "outputs": [
        {
          "output_type": "execute_result",
          "data": {
            "text/plain": [
              "array([[1., 1., 1., 1., 1., 1., 1., 1., 1., 1., 1., 1., 1., 1., 1.]])"
            ]
          },
          "metadata": {},
          "execution_count": 19
        }
      ]
    },
    {
      "cell_type": "code",
      "source": [
        "array[0,2]=99\n",
        "array"
      ],
      "metadata": {
        "id": "6AaDJwHJAx5c",
        "outputId": "bbf26cef-12a9-4a31-ae8f-66377c5a6f89",
        "colab": {
          "base_uri": "https://localhost:8080/"
        }
      },
      "execution_count": 20,
      "outputs": [
        {
          "output_type": "execute_result",
          "data": {
            "text/plain": [
              "array([[ 1.,  1., 99.,  1.,  1.,  1.,  1.,  1.,  1.,  1.,  1.,  1.,  1.,\n",
              "         1.,  1.]])"
            ]
          },
          "metadata": {},
          "execution_count": 20
        }
      ]
    },
    {
      "cell_type": "markdown",
      "source": [
        "Crea una matriz de 6 * 6 de ceros"
      ],
      "metadata": {
        "id": "crWOWAlZBNWV"
      }
    },
    {
      "cell_type": "code",
      "source": [
        "array = np.zeros((6,6))\n",
        "array"
      ],
      "metadata": {
        "id": "oqo_S22zA8lC",
        "colab": {
          "base_uri": "https://localhost:8080/"
        },
        "outputId": "0a551062-0515-477d-8651-746a750ed3c2"
      },
      "execution_count": 21,
      "outputs": [
        {
          "output_type": "execute_result",
          "data": {
            "text/plain": [
              "array([[0., 0., 0., 0., 0., 0.],\n",
              "       [0., 0., 0., 0., 0., 0.],\n",
              "       [0., 0., 0., 0., 0., 0.],\n",
              "       [0., 0., 0., 0., 0., 0.],\n",
              "       [0., 0., 0., 0., 0., 0.],\n",
              "       [0., 0., 0., 0., 0., 0.]])"
            ]
          },
          "metadata": {},
          "execution_count": 21
        }
      ]
    },
    {
      "cell_type": "markdown",
      "source": [
        "Convertir el tipo de datos anterior a entero\n",
        "\n",
        "\n",
        "\n"
      ],
      "metadata": {
        "id": "qzyfiMi2BcTE"
      }
    },
    {
      "cell_type": "code",
      "source": [
        "array.dtype.name"
      ],
      "metadata": {
        "colab": {
          "base_uri": "https://localhost:8080/",
          "height": 36
        },
        "id": "G5fQq0FvV7kF",
        "outputId": "0cbbf5bf-1f96-48e5-e9ec-b9d3434acf4e"
      },
      "execution_count": 22,
      "outputs": [
        {
          "output_type": "execute_result",
          "data": {
            "text/plain": [
              "'float64'"
            ],
            "application/vnd.google.colaboratory.intrinsic+json": {
              "type": "string"
            }
          },
          "metadata": {},
          "execution_count": 22
        }
      ]
    },
    {
      "cell_type": "code",
      "source": [
        "array.dtype=\"int64\"\n",
        "array.dtype.name"
      ],
      "metadata": {
        "id": "s3A7NKnrBVja",
        "colab": {
          "base_uri": "https://localhost:8080/",
          "height": 36
        },
        "outputId": "e5df5c5a-142a-4890-c8f3-52e896eed53c"
      },
      "execution_count": 23,
      "outputs": [
        {
          "output_type": "execute_result",
          "data": {
            "text/plain": [
              "'int64'"
            ],
            "application/vnd.google.colaboratory.intrinsic+json": {
              "type": "string"
            }
          },
          "metadata": {},
          "execution_count": 23
        }
      ]
    },
    {
      "cell_type": "code",
      "source": [
        "array"
      ],
      "metadata": {
        "id": "1cNzyr74Biuj",
        "colab": {
          "base_uri": "https://localhost:8080/"
        },
        "outputId": "cfc0260b-fce4-4940-9564-f0490c717855"
      },
      "execution_count": 24,
      "outputs": [
        {
          "output_type": "execute_result",
          "data": {
            "text/plain": [
              "array([[0, 0, 0, 0, 0, 0],\n",
              "       [0, 0, 0, 0, 0, 0],\n",
              "       [0, 0, 0, 0, 0, 0],\n",
              "       [0, 0, 0, 0, 0, 0],\n",
              "       [0, 0, 0, 0, 0, 0],\n",
              "       [0, 0, 0, 0, 0, 0]])"
            ]
          },
          "metadata": {},
          "execution_count": 24
        }
      ]
    },
    {
      "cell_type": "markdown",
      "source": [
        "Crea un array de numeros enteros del 1 al 20 inclusives, con 4 filas y 3 columnas, muestra el valor de la segunda fila y primera columna"
      ],
      "metadata": {
        "id": "sSVTJyodCBRd"
      }
    },
    {
      "cell_type": "code",
      "source": [
        "array = np.random.randint(1,21,size=12)\n",
        "array"
      ],
      "metadata": {
        "id": "pgNBJO9NBx73",
        "colab": {
          "base_uri": "https://localhost:8080/"
        },
        "outputId": "c9c5a4fc-46f9-4499-9cc7-2c7a771ec947"
      },
      "execution_count": 25,
      "outputs": [
        {
          "output_type": "execute_result",
          "data": {
            "text/plain": [
              "array([ 3,  1,  9,  6, 15, 19, 19,  8, 12, 17, 15,  5])"
            ]
          },
          "metadata": {},
          "execution_count": 25
        }
      ]
    },
    {
      "cell_type": "code",
      "source": [
        "array = array.reshape(4,3)\n",
        "array"
      ],
      "metadata": {
        "id": "J-9v1NkECP5C",
        "colab": {
          "base_uri": "https://localhost:8080/"
        },
        "outputId": "f2fb1091-2e56-4764-bf74-7c093d88b591"
      },
      "execution_count": 26,
      "outputs": [
        {
          "output_type": "execute_result",
          "data": {
            "text/plain": [
              "array([[ 3,  1,  9],\n",
              "       [ 6, 15, 19],\n",
              "       [19,  8, 12],\n",
              "       [17, 15,  5]])"
            ]
          },
          "metadata": {},
          "execution_count": 26
        }
      ]
    },
    {
      "cell_type": "code",
      "source": [
        "array[1,0]"
      ],
      "metadata": {
        "id": "Z7HA47NjDdPy",
        "colab": {
          "base_uri": "https://localhost:8080/"
        },
        "outputId": "6df85c5b-de03-4ec9-fd3a-836e79af7cf8"
      },
      "execution_count": 27,
      "outputs": [
        {
          "output_type": "execute_result",
          "data": {
            "text/plain": [
              "6"
            ]
          },
          "metadata": {},
          "execution_count": 27
        }
      ]
    },
    {
      "cell_type": "markdown",
      "source": [
        "Crea un array con valores del rango 50 a 99 inclusives"
      ],
      "metadata": {
        "id": "_HJnuOGzEPGZ"
      }
    },
    {
      "cell_type": "code",
      "source": [
        "array=np.arange(50,100)\n",
        "array"
      ],
      "metadata": {
        "id": "rdt7edsFD_3U",
        "colab": {
          "base_uri": "https://localhost:8080/"
        },
        "outputId": "dd9b60d3-8161-49e7-9dc5-0cb571fd6042"
      },
      "execution_count": 28,
      "outputs": [
        {
          "output_type": "execute_result",
          "data": {
            "text/plain": [
              "array([50, 51, 52, 53, 54, 55, 56, 57, 58, 59, 60, 61, 62, 63, 64, 65, 66,\n",
              "       67, 68, 69, 70, 71, 72, 73, 74, 75, 76, 77, 78, 79, 80, 81, 82, 83,\n",
              "       84, 85, 86, 87, 88, 89, 90, 91, 92, 93, 94, 95, 96, 97, 98, 99])"
            ]
          },
          "metadata": {},
          "execution_count": 28
        }
      ]
    },
    {
      "cell_type": "markdown",
      "source": [
        "Invierte el array anterior"
      ],
      "metadata": {
        "id": "jr3_I45GFBjR"
      }
    },
    {
      "cell_type": "code",
      "source": [
        "array[::-1]"
      ],
      "metadata": {
        "id": "VjQUcYKEE_M6",
        "colab": {
          "base_uri": "https://localhost:8080/"
        },
        "outputId": "bef3d5e0-4e86-4eac-a1c2-5e9dc16aca06"
      },
      "execution_count": 29,
      "outputs": [
        {
          "output_type": "execute_result",
          "data": {
            "text/plain": [
              "array([99, 98, 97, 96, 95, 94, 93, 92, 91, 90, 89, 88, 87, 86, 85, 84, 83,\n",
              "       82, 81, 80, 79, 78, 77, 76, 75, 74, 73, 72, 71, 70, 69, 68, 67, 66,\n",
              "       65, 64, 63, 62, 61, 60, 59, 58, 57, 56, 55, 54, 53, 52, 51, 50])"
            ]
          },
          "metadata": {},
          "execution_count": 29
        }
      ]
    },
    {
      "cell_type": "markdown",
      "source": [
        "Crea una matriz 4 * 4 con valores de 1 a 16"
      ],
      "metadata": {
        "id": "dpMs-3iFGFYi"
      }
    },
    {
      "cell_type": "code",
      "source": [
        "array = np.arange(1,17).reshape(4,4)\n",
        "array"
      ],
      "metadata": {
        "id": "Hr9-D--vFF7q",
        "colab": {
          "base_uri": "https://localhost:8080/"
        },
        "outputId": "c3b5446d-288d-41fe-d7eb-b43340dd54b3"
      },
      "execution_count": 30,
      "outputs": [
        {
          "output_type": "execute_result",
          "data": {
            "text/plain": [
              "array([[ 1,  2,  3,  4],\n",
              "       [ 5,  6,  7,  8],\n",
              "       [ 9, 10, 11, 12],\n",
              "       [13, 14, 15, 16]])"
            ]
          },
          "metadata": {},
          "execution_count": 30
        }
      ]
    },
    {
      "cell_type": "markdown",
      "source": [
        "Encontrar los valores mayores a 6 del array anterior"
      ],
      "metadata": {
        "id": "EfErapyBGy6_"
      }
    },
    {
      "cell_type": "code",
      "source": [
        "array_sup_6 = array[array>6]\n",
        "array_sup_6"
      ],
      "metadata": {
        "id": "4G4aRYSXGWVt",
        "colab": {
          "base_uri": "https://localhost:8080/"
        },
        "outputId": "f9f5e1c2-2096-4a71-8a54-832e2512fc5c"
      },
      "execution_count": 31,
      "outputs": [
        {
          "output_type": "execute_result",
          "data": {
            "text/plain": [
              "array([ 7,  8,  9, 10, 11, 12, 13, 14, 15, 16])"
            ]
          },
          "metadata": {},
          "execution_count": 31
        }
      ]
    },
    {
      "cell_type": "markdown",
      "source": [
        "Crear una matriz identidad de 5 * 5"
      ],
      "metadata": {
        "id": "_mOsPTS3HE7h"
      }
    },
    {
      "cell_type": "code",
      "source": [
        "array = np.identity(5)\n",
        "array"
      ],
      "metadata": {
        "id": "V8KZJuDWG9sT",
        "colab": {
          "base_uri": "https://localhost:8080/"
        },
        "outputId": "40e97c8a-60e9-450a-fce4-e9bca53f3523"
      },
      "execution_count": 32,
      "outputs": [
        {
          "output_type": "execute_result",
          "data": {
            "text/plain": [
              "array([[1., 0., 0., 0., 0.],\n",
              "       [0., 1., 0., 0., 0.],\n",
              "       [0., 0., 1., 0., 0.],\n",
              "       [0., 0., 0., 1., 0.],\n",
              "       [0., 0., 0., 0., 1.]])"
            ]
          },
          "metadata": {},
          "execution_count": 32
        }
      ]
    },
    {
      "cell_type": "markdown",
      "source": [
        "Crear matriz con valores al azar entre 0 y 1 de forma 4x4x4"
      ],
      "metadata": {
        "id": "kaMthpkTHQ-a"
      }
    },
    {
      "cell_type": "code",
      "source": [
        "array = np.random.random((4,4,4))\n",
        "array"
      ],
      "metadata": {
        "id": "VwriE8_NHMJT",
        "colab": {
          "base_uri": "https://localhost:8080/"
        },
        "outputId": "2b564e9a-949b-4af7-ed7b-8e891c6fb848"
      },
      "execution_count": 36,
      "outputs": [
        {
          "output_type": "execute_result",
          "data": {
            "text/plain": [
              "array([[[0.46792579, 0.80543105, 0.48632238, 0.50925258],\n",
              "        [0.6231334 , 0.10153566, 0.18376603, 0.18064542],\n",
              "        [0.85663883, 0.55153831, 0.42418603, 0.5153277 ],\n",
              "        [0.20337045, 0.25327346, 0.60670109, 0.039873  ]],\n",
              "\n",
              "       [[0.97379699, 0.14985832, 0.35550735, 0.01296495],\n",
              "        [0.33928645, 0.08695776, 0.26779619, 0.81947732],\n",
              "        [0.39367715, 0.74535707, 0.68121915, 0.54025828],\n",
              "        [0.504553  , 0.83423785, 0.87006748, 0.6281623 ]],\n",
              "\n",
              "       [[0.71334887, 0.49172105, 0.79351014, 0.54753712],\n",
              "        [0.64642754, 0.88560894, 0.07278026, 0.99507079],\n",
              "        [0.920198  , 0.91250307, 0.183184  , 0.56130595],\n",
              "        [0.37105236, 0.89473233, 0.26780755, 0.22917985]],\n",
              "\n",
              "       [[0.27914614, 0.34049903, 0.60531643, 0.62264336],\n",
              "        [0.19890604, 0.38684147, 0.40000842, 0.1871246 ],\n",
              "        [0.4293482 , 0.67223595, 0.44363272, 0.85630668],\n",
              "        [0.90176705, 0.25792576, 0.14015164, 0.20138009]]])"
            ]
          },
          "metadata": {},
          "execution_count": 36
        }
      ]
    },
    {
      "cell_type": "markdown",
      "source": [
        "Indicar valor minimo y maximo del array anterior y su posicion\n"
      ],
      "metadata": {
        "id": "UEcwthH7HoRK"
      }
    },
    {
      "cell_type": "code",
      "source": [
        "array.min()"
      ],
      "metadata": {
        "id": "KCEbh4srHcJT",
        "colab": {
          "base_uri": "https://localhost:8080/"
        },
        "outputId": "c4e4be94-eaa0-4851-f726-140077203a77"
      },
      "execution_count": 37,
      "outputs": [
        {
          "output_type": "execute_result",
          "data": {
            "text/plain": [
              "0.012964952721245315"
            ]
          },
          "metadata": {},
          "execution_count": 37
        }
      ]
    },
    {
      "cell_type": "code",
      "source": [
        "array.argmin()"
      ],
      "metadata": {
        "id": "6fR6E2xmIv4j",
        "colab": {
          "base_uri": "https://localhost:8080/"
        },
        "outputId": "a59613f0-438d-4686-a789-c4985c799d3f"
      },
      "execution_count": 38,
      "outputs": [
        {
          "output_type": "execute_result",
          "data": {
            "text/plain": [
              "19"
            ]
          },
          "metadata": {},
          "execution_count": 38
        }
      ]
    },
    {
      "cell_type": "code",
      "source": [
        "array.max()"
      ],
      "metadata": {
        "id": "Uqf4PSh6HuwD",
        "colab": {
          "base_uri": "https://localhost:8080/"
        },
        "outputId": "89d50be5-92ed-436d-fe20-79509ec8e217"
      },
      "execution_count": 39,
      "outputs": [
        {
          "output_type": "execute_result",
          "data": {
            "text/plain": [
              "0.9950707895556872"
            ]
          },
          "metadata": {},
          "execution_count": 39
        }
      ]
    },
    {
      "cell_type": "code",
      "source": [
        "array.argmax()"
      ],
      "metadata": {
        "id": "O8gkAHBsIuSK",
        "colab": {
          "base_uri": "https://localhost:8080/"
        },
        "outputId": "c9747f05-d68f-4304-958c-c8a935ac526b"
      },
      "execution_count": 40,
      "outputs": [
        {
          "output_type": "execute_result",
          "data": {
            "text/plain": [
              "39"
            ]
          },
          "metadata": {},
          "execution_count": 40
        }
      ]
    },
    {
      "cell_type": "markdown",
      "source": [
        "Crear 2 arrays al azar y verificar si son iguales"
      ],
      "metadata": {
        "id": "ZD1Cn2ltH8SI"
      }
    },
    {
      "cell_type": "code",
      "source": [
        "array_1 = np.random.random((5,5))\n",
        "array_1"
      ],
      "metadata": {
        "id": "vTvPI3nCHwMb",
        "colab": {
          "base_uri": "https://localhost:8080/"
        },
        "outputId": "b84001ad-c641-49fc-a910-da96538b6f79"
      },
      "execution_count": 41,
      "outputs": [
        {
          "output_type": "execute_result",
          "data": {
            "text/plain": [
              "array([[0.0058497 , 0.41381705, 0.92278843, 0.19381729, 0.03429331],\n",
              "       [0.31157397, 0.52481905, 0.31778753, 0.08473261, 0.10486481],\n",
              "       [0.13938964, 0.33975296, 0.05821981, 0.57937217, 0.19249872],\n",
              "       [0.20361912, 0.08833188, 0.20064267, 0.82640593, 0.87300572],\n",
              "       [0.60402185, 0.42845106, 0.60218572, 0.48566552, 0.82482496]])"
            ]
          },
          "metadata": {},
          "execution_count": 41
        }
      ]
    },
    {
      "cell_type": "code",
      "source": [
        "array_2 = np.random.random((5,5))\n",
        "array_2"
      ],
      "metadata": {
        "id": "UIDugy_eIH_p",
        "colab": {
          "base_uri": "https://localhost:8080/"
        },
        "outputId": "d10d657f-cb07-4332-a0cf-262bef5f5231"
      },
      "execution_count": 43,
      "outputs": [
        {
          "output_type": "execute_result",
          "data": {
            "text/plain": [
              "array([[0.63317969, 0.97074645, 0.32770971, 0.58309686, 0.85534331],\n",
              "       [0.12231531, 0.62789743, 0.05804871, 0.9424767 , 0.78571444],\n",
              "       [0.70378903, 0.73221241, 0.45202662, 0.86150789, 0.63466714],\n",
              "       [0.33959459, 0.64705726, 0.57726853, 0.52257362, 0.23458661],\n",
              "       [0.86543084, 0.21447083, 0.62445299, 0.1892695 , 0.2358719 ]])"
            ]
          },
          "metadata": {},
          "execution_count": 43
        }
      ]
    },
    {
      "cell_type": "code",
      "source": [
        "array_1==array_2"
      ],
      "metadata": {
        "id": "EPMQqOhFINFM",
        "colab": {
          "base_uri": "https://localhost:8080/"
        },
        "outputId": "1db2acd4-530e-4bf7-9b1a-095e22c76983"
      },
      "execution_count": 44,
      "outputs": [
        {
          "output_type": "execute_result",
          "data": {
            "text/plain": [
              "array([[False, False, False, False, False],\n",
              "       [False, False, False, False, False],\n",
              "       [False, False, False, False, False],\n",
              "       [False, False, False, False, False],\n",
              "       [False, False, False, False, False]])"
            ]
          },
          "metadata": {},
          "execution_count": 44
        }
      ]
    },
    {
      "cell_type": "code",
      "source": [
        "np.array_equal(array_1,array_2)"
      ],
      "metadata": {
        "id": "PxE0t9CeIQtS",
        "colab": {
          "base_uri": "https://localhost:8080/"
        },
        "outputId": "44b683e6-7474-4494-ea74-5311b44d2297"
      },
      "execution_count": 45,
      "outputs": [
        {
          "output_type": "execute_result",
          "data": {
            "text/plain": [
              "False"
            ]
          },
          "metadata": {},
          "execution_count": 45
        }
      ]
    },
    {
      "cell_type": "markdown",
      "source": [
        "De uno de los arrays anteriores obten la media y muestra los valores que estan por encima de la media"
      ],
      "metadata": {
        "id": "_UV8KBYFJJk7"
      }
    },
    {
      "cell_type": "code",
      "source": [
        "media = array_1.mean()\n",
        "media"
      ],
      "metadata": {
        "id": "aGVuiESFIXRt",
        "colab": {
          "base_uri": "https://localhost:8080/"
        },
        "outputId": "5ba741be-baf2-4d7f-97a3-7b830e9273c1"
      },
      "execution_count": 46,
      "outputs": [
        {
          "output_type": "execute_result",
          "data": {
            "text/plain": [
              "0.3744292595449141"
            ]
          },
          "metadata": {},
          "execution_count": 46
        }
      ]
    },
    {
      "cell_type": "code",
      "source": [
        "array_1[array_1>media]\n"
      ],
      "metadata": {
        "id": "hWdJj4MsJZxi",
        "colab": {
          "base_uri": "https://localhost:8080/"
        },
        "outputId": "7044d685-f98b-4285-94b4-1e2a39b2a237"
      },
      "execution_count": 47,
      "outputs": [
        {
          "output_type": "execute_result",
          "data": {
            "text/plain": [
              "array([0.41381705, 0.92278843, 0.52481905, 0.57937217, 0.82640593,\n",
              "       0.87300572, 0.60402185, 0.42845106, 0.60218572, 0.48566552,\n",
              "       0.82482496])"
            ]
          },
          "metadata": {},
          "execution_count": 47
        }
      ]
    },
    {
      "cell_type": "code",
      "source": [
        "array_1"
      ],
      "metadata": {
        "id": "6VjGsbI9Jafz",
        "colab": {
          "base_uri": "https://localhost:8080/"
        },
        "outputId": "a1a6fbf0-b0b7-47c0-9290-c63298425402"
      },
      "execution_count": 48,
      "outputs": [
        {
          "output_type": "execute_result",
          "data": {
            "text/plain": [
              "array([[0.0058497 , 0.41381705, 0.92278843, 0.19381729, 0.03429331],\n",
              "       [0.31157397, 0.52481905, 0.31778753, 0.08473261, 0.10486481],\n",
              "       [0.13938964, 0.33975296, 0.05821981, 0.57937217, 0.19249872],\n",
              "       [0.20361912, 0.08833188, 0.20064267, 0.82640593, 0.87300572],\n",
              "       [0.60402185, 0.42845106, 0.60218572, 0.48566552, 0.82482496]])"
            ]
          },
          "metadata": {},
          "execution_count": 48
        }
      ]
    }
  ]
}