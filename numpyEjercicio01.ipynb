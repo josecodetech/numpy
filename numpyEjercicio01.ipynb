{
  "nbformat": 4,
  "nbformat_minor": 0,
  "metadata": {
    "colab": {
      "provenance": [],
      "collapsed_sections": []
    },
    "kernelspec": {
      "name": "python3",
      "display_name": "Python 3"
    },
    "language_info": {
      "name": "python"
    }
  },
  "cells": [
    {
      "cell_type": "markdown",
      "source": [
        "#Ejercicio 01 Creacion array"
      ],
      "metadata": {
        "id": "MhyGbDpbUePc"
      }
    },
    {
      "cell_type": "markdown",
      "source": [
        "Construir un array de 4 filas, con las siguientes caracteristicas:\n",
        "\n",
        "a. La primera fila estara formada por los numeros 6,7,9,15,22,34\n",
        "\n",
        "b. Los elementos de la segunda fila equivalen a la fila anterior multiplicada por 2\n",
        "\n",
        "c. Los elementos de la tercera fila equivalen a la fila anterior menos 5\n",
        "\n",
        "d. Los elementos de la cuarta fila son el cuadrado de la tercera fila\n",
        "\n",
        "\n",
        "¿Cuantos elementos del array son pares?"
      ],
      "metadata": {
        "id": "sjXMjsYoUvtT"
      }
    },
    {
      "cell_type": "markdown",
      "source": [],
      "metadata": {
        "id": "8dHjefooUinD"
      }
    },
    {
      "cell_type": "code",
      "source": [
        "import numpy as np"
      ],
      "metadata": {
        "id": "1h4IlXzZUhIt"
      },
      "execution_count": 2,
      "outputs": []
    },
    {
      "cell_type": "code",
      "source": [
        "fila1 = [6,7,9,15,22,34]"
      ],
      "metadata": {
        "id": "jJf_YhYYVA-h"
      },
      "execution_count": 3,
      "outputs": []
    },
    {
      "cell_type": "code",
      "source": [
        "fila2 = [2*x for x in fila1]"
      ],
      "metadata": {
        "id": "eRdfULw6VLDi"
      },
      "execution_count": 4,
      "outputs": []
    },
    {
      "cell_type": "code",
      "source": [
        "fila3 = [x-5 for x in fila2]"
      ],
      "metadata": {
        "id": "cDYC_OrlVZAM"
      },
      "execution_count": 7,
      "outputs": []
    },
    {
      "cell_type": "code",
      "source": [
        "fila4 = [x**2 for x in fila3]"
      ],
      "metadata": {
        "id": "L8vyayV3Vre4"
      },
      "execution_count": 9,
      "outputs": []
    },
    {
      "cell_type": "code",
      "source": [
        "array = np.array([fila1,fila2,fila3,fila4])\n",
        "array"
      ],
      "metadata": {
        "colab": {
          "base_uri": "https://localhost:8080/"
        },
        "id": "IsRWKb6BV4Lm",
        "outputId": "3196c093-bce6-4730-9d31-d755e4d700f4"
      },
      "execution_count": 11,
      "outputs": [
        {
          "output_type": "execute_result",
          "data": {
            "text/plain": [
              "array([[   6,    7,    9,   15,   22,   34],\n",
              "       [  12,   14,   18,   30,   44,   68],\n",
              "       [   7,    9,   13,   25,   39,   63],\n",
              "       [  49,   81,  169,  625, 1521, 3969]])"
            ]
          },
          "metadata": {},
          "execution_count": 11
        }
      ]
    },
    {
      "cell_type": "code",
      "source": [
        "pares = array[array%2==0]\n",
        "pares"
      ],
      "metadata": {
        "colab": {
          "base_uri": "https://localhost:8080/"
        },
        "id": "-bwbL3-qWEnn",
        "outputId": "dbcd55e7-4939-4b56-e27d-7583ae296c46"
      },
      "execution_count": 13,
      "outputs": [
        {
          "output_type": "execute_result",
          "data": {
            "text/plain": [
              "array([ 6, 22, 34, 12, 14, 18, 30, 44, 68])"
            ]
          },
          "metadata": {},
          "execution_count": 13
        }
      ]
    },
    {
      "cell_type": "code",
      "source": [
        "pares.size"
      ],
      "metadata": {
        "colab": {
          "base_uri": "https://localhost:8080/"
        },
        "id": "jrDys2_9WjmB",
        "outputId": "5e9b3ccf-f3c8-49bc-f6a8-ba5ffbe76ae4"
      },
      "execution_count": 14,
      "outputs": [
        {
          "output_type": "execute_result",
          "data": {
            "text/plain": [
              "9"
            ]
          },
          "metadata": {},
          "execution_count": 14
        }
      ]
    },
    {
      "cell_type": "code",
      "source": [],
      "metadata": {
        "id": "r69Kk1RsWuym"
      },
      "execution_count": null,
      "outputs": []
    }
  ]
}